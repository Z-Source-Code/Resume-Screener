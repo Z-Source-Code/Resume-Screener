{
 "cells": [
  {
   "cell_type": "markdown",
   "metadata": {},
   "source": [
    "#### Tokenization"
   ]
  },
  {
   "cell_type": "code",
   "execution_count": 52,
   "metadata": {},
   "outputs": [
    {
     "name": "stdout",
     "output_type": "stream",
     "text": [
      "Words in text 1\n",
      "['She', 'sells', 'seashells', 'by', 'the', 'seashore.']\n",
      "\n",
      "Words in text 2\n",
      "['\"Seashells!', 'The', 'seashells', 'are', 'on', 'sale!', 'By', 'the', 'seashore.\"']\n",
      "\n",
      "Words in text 3\n",
      "['She', 'sells', '3', 'seashells', 'to', 'John,', 'who', 'lives', 'by', 'the', 'lake.']\n",
      "\n"
     ]
    }
   ],
   "source": [
    "text1 = 'She sells seashells by the seashore.'\n",
    "text2 = '\"Seashells! The seashells are on sale! By the seashore.\"'\n",
    "text3 = 'She sells 3 seashells to John, who lives by the lake.'\n",
    "\n",
    "words_lists = [text.split() for text in [text1, text2, text3]]\n",
    "words1, words2, words3 = words_lists \n",
    "\n",
    "for i, words in enumerate(words_lists, 1):\n",
    "  print(f'Words in text {i}')\n",
    "  print(f'{words}\\n')\n"
   ]
  },
  {
   "cell_type": "markdown",
   "metadata": {},
   "source": [
    "#### cleaning and normalizing text"
   ]
  },
  {
   "cell_type": "code",
   "execution_count": 53,
   "metadata": {},
   "outputs": [
    {
     "name": "stdout",
     "output_type": "stream",
     "text": [
      "Words in text 1\n",
      "['she', 'sells', 'seashells', 'by', 'the', 'seashore']\n",
      "\n",
      "Words in text 2\n",
      "['seashells', 'the', 'seashells', 'are', 'on', 'sale', 'by', 'the', 'seashore']\n",
      "\n",
      "Words in text 3\n",
      "['she', 'sells', '3', 'seashells', 'to', 'john,', 'who', 'lives', 'by', 'the', 'lake']\n",
      "\n"
     ]
    }
   ],
   "source": [
    "def simplify_text(text):\n",
    "  for punctuation in ['.', '.', '!', '?', '\"']:\n",
    "    text = text.replace(punctuation, '')\n",
    "    \n",
    "  return text.lower() \n",
    "\n",
    "for i, words in enumerate(words_lists, 1):\n",
    "  for j, word in enumerate(words):\n",
    "    words[j] = simplify_text(word)\n",
    "    \n",
    "  print(f'Words in text {i}')\n",
    "  print(f'{words}\\n')"
   ]
  },
  {
   "cell_type": "markdown",
   "metadata": {},
   "source": [
    "#### Unique_Words"
   ]
  },
  {
   "cell_type": "code",
   "execution_count": 54,
   "metadata": {},
   "outputs": [
    {
     "name": "stdout",
     "output_type": "stream",
     "text": [
      "Unique Words in text 1\n",
      "{'seashore', 'sells', 'seashells', 'she', 'by', 'the'}\n",
      "\n",
      "Unique Words in text 2\n",
      "{'seashore', 'on', 'are', 'seashells', 'sale', 'by', 'the'}\n",
      "\n",
      "Unique Words in text 3\n",
      "{'the', 'lives', 'who', 'to', 'john,', '3', 'seashells', 'lake', 'she', 'by', 'sells'}\n",
      "\n"
     ]
    }
   ],
   "source": [
    "words_sets = [set(words) for words in words_lists]\n",
    "for i, unique_words in enumerate(words_sets, 1):\n",
    "  print(f'Unique Words in text {i}')\n",
    "  print(f'{unique_words}\\n')\n",
    "  \n"
   ]
  },
  {
   "cell_type": "markdown",
   "metadata": {},
   "source": [
    "#### Extracting overlapping words between two texts"
   ]
  },
  {
   "cell_type": "code",
   "execution_count": 55,
   "metadata": {},
   "outputs": [
    {
     "name": "stdout",
     "output_type": "stream",
     "text": [
      "Texts 1 and 2 share these 4 words:\n",
      "{'seashore', 'the', 'by', 'seashells'}\n",
      "\n",
      "Texts 1 and 3 share these 5 words:\n",
      "{'sells', 'seashells', 'she', 'by', 'the'}\n",
      "\n"
     ]
    }
   ],
   "source": [
    "words_set1 = words_sets[0]\n",
    "for i, words_set in enumerate(words_sets[1:], 2):\n",
    "  shared_words = words_set1 & words_set \n",
    "  print(f'Texts 1 and {i} share these {len(shared_words)} words:')\n",
    "  print(f'{shared_words}\\n')"
   ]
  },
  {
   "cell_type": "markdown",
   "metadata": {},
   "source": [
    "Text 1 and 3 share more words that are similar, but also share diverging words"
   ]
  },
  {
   "cell_type": "markdown",
   "metadata": {},
   "source": [
    "#### Extracting diverging words"
   ]
  },
  {
   "cell_type": "code",
   "execution_count": 56,
   "metadata": {},
   "outputs": [
    {
     "name": "stdout",
     "output_type": "stream",
     "text": [
      "Texts 1 and 2 don't share these 5 words:\n",
      "{'on', 'are', 'sale', 'she', 'sells'}\n",
      "\n",
      "Texts 1 and 3 don't share these 7 words:\n",
      "{'seashore', 'lives', 'who', 'to', 'john,', '3', 'lake'}\n",
      "\n"
     ]
    }
   ],
   "source": [
    "for i, words_set in enumerate(words_sets[1:], 2):\n",
    "  diverging_words = words_set1 ^ words_set \n",
    "  print(f\"Texts 1 and {i} don't share these {len(diverging_words)} words:\")\n",
    "  print(f'{diverging_words}\\n')\n",
    "  "
   ]
  },
  {
   "cell_type": "markdown",
   "metadata": {},
   "source": [
    "Text 1 and 3 contain more diverging words then text 1 and 2"
   ]
  },
  {
   "cell_type": "markdown",
   "metadata": {},
   "source": [
    "#### Extracting the union of words between two texts"
   ]
  },
  {
   "cell_type": "code",
   "execution_count": 57,
   "metadata": {},
   "outputs": [
    {
     "name": "stdout",
     "output_type": "stream",
     "text": [
      "Together, texts 1 and 2 contain 9 unique_words. These words are:\n",
      " {'seashore', 'on', 'sells', 'are', 'seashells', 'sale', 'she', 'by', 'the'}\n",
      "\n",
      "Together, texts 1 and 3 contain 12 unique_words. These words are:\n",
      " {'sells', 'seashore', 'lives', 'who', 'to', 'john,', '3', 'seashells', 'lake', 'she', 'by', 'the'}\n",
      "\n"
     ]
    }
   ],
   "source": [
    "for i, words_set in enumerate(words_sets[1:], 2):\n",
    "  total_words = words_set1 | words_set \n",
    "  print(f\"Together, texts 1 and {i} contain {len(total_words)} \"\n",
    "        f\"unique_words. These words are:\\n {total_words}\\n\")"
   ]
  },
  {
   "cell_type": "markdown",
   "metadata": {},
   "source": [
    "#### Extracting the percentage of shared words between two texts"
   ]
  },
  {
   "cell_type": "code",
   "execution_count": 58,
   "metadata": {},
   "outputs": [
    {
     "name": "stdout",
     "output_type": "stream",
     "text": [
      "Together, texts 1 and 2 contain 9 unique words. \n",
      "44.44% of these words are shared. \n",
      "55.56% of these words diverge.\n",
      "\n",
      "Together, texts 1 and 3 contain 12 unique words. \n",
      "41.67% of these words are shared. \n",
      "58.33% of these words diverge.\n",
      "\n"
     ]
    }
   ],
   "source": [
    "for i, words_set in enumerate(words_sets[1:], 2):\n",
    "  shared_words = words_set1 & words_set \n",
    "  diverging_words = words_set1 ^ words_set \n",
    "  total_words = words_set1 | words_set \n",
    "  assert len(total_words) == len(shared_words) + len(diverging_words)\n",
    "  percent_shared = 100 * len(shared_words) / len(total_words)\n",
    "  percent_diverging = 100 * len(diverging_words) / len(total_words)\n",
    "  \n",
    "  print(f'Together, texts 1 and {i} contain {len(total_words)} '\n",
    "        f'unique words. \\n{percent_shared:.2f}% of these words are '\n",
    "        f'shared. \\n{percent_diverging:.2f}% of these words diverge.\\n')"
   ]
  },
  {
   "cell_type": "markdown",
   "metadata": {},
   "source": [
    "### Text Similarity with Jaccard similarity\n",
    "\n",
    "The Jaccard similarity is a reasonable measure of text resemblance for the following reasons:\n",
    "- The similarity takes into account both text overlap and text divergence. \n",
    "- The fractional similarity is always between 0 and 1. The fraction is easy to interpret: 0 indicates no words are share, 0.5 indicates that half the words are shared, and 1 indicates that all the words are shared. \n",
    "- The similarity is simple to implement.\n",
    "\n",
    "1. Given two texts, extract a list of words from each text \n",
    "2. Count the unque words that are shared between the texts. \n",
    "3. Divide the shared word count by the total unique words across both texts"
   ]
  },
  {
   "cell_type": "markdown",
   "metadata": {},
   "source": [
    "#### Computing the Jaccard similarity\n"
   ]
  },
  {
   "cell_type": "code",
   "execution_count": 59,
   "metadata": {},
   "outputs": [
    {
     "name": "stdout",
     "output_type": "stream",
     "text": [
      "0.4444444444444444\n",
      "0.4166666666666667\n"
     ]
    }
   ],
   "source": [
    "def jaccard_similarity(text_a, text_b):\n",
    "  word_set_a, word_set_b = [set(simplify_text(text).split()) for text in [text_a, text_b]]\n",
    "  num_shared = len(word_set_a & word_set_b)\n",
    "  num_total = len(word_set_a) + len(word_set_b) - num_shared \n",
    "  return num_shared / num_total \n",
    "\n",
    "for text in [text2, text3]:\n",
    "  similarity = jaccard_similarity(text1, text)\n",
    "  print(similarity)\n",
    "  # assert similarity == jaccard_similarity(text1, text)"
   ]
  },
  {
   "cell_type": "markdown",
   "metadata": {},
   "source": [
    "#### Replacing words to numbers in vocabulary"
   ]
  },
  {
   "cell_type": "code",
   "execution_count": 60,
   "metadata": {},
   "outputs": [
    {
     "name": "stdout",
     "output_type": "stream",
     "text": [
      "OUr vocabulary contains 15 words. This vocabulary is: \n",
      "{'on': 0, 'sale': 1, 'sells': 2, 'seashore': 3, 'lives': 4, 'who': 5, 'to': 6, 'john,': 7, 'are': 8, '3': 9, 'seashells': 10, 'lake': 11, 'she': 12, 'by': 13, 'the': 14}\n"
     ]
    }
   ],
   "source": [
    "words_set1, words_set2, words_set3 = words_sets \n",
    "total_words = words_set1 | words_set2 | words_set3 \n",
    "vocabulary = {word: i for i, word in enumerate(total_words)}\n",
    "value_to_word = {value: word for word, value in vocabulary.items()}\n",
    "print(f'OUr vocabulary contains {len(vocabulary)} words. '\n",
    "      f'This vocabulary is: \\n{vocabulary}')"
   ]
  },
  {
   "cell_type": "markdown",
   "metadata": {},
   "source": [
    "### Transforming words into binary vectors "
   ]
  },
  {
   "cell_type": "code",
   "execution_count": 61,
   "metadata": {},
   "outputs": [
    {
     "data": {
      "image/png": "[encoded data removed]",
      "text/plain": [
       "<Figure size 640x480 with 2 Axes>"
      ]
     },
     "metadata": {},
     "output_type": "display_data"
    }
   ],
   "source": [
    "import matplotlib.pyplot as plt \n",
    "import numpy as np \n",
    "import seaborn as sns\n",
    "\n",
    "vectors = [] \n",
    "for i, words_set in enumerate(words_sets, 1):\n",
    "  vector = np.array([0] * len(vocabulary))\n",
    "  for word in words_set: \n",
    "    vector[vocabulary[word]] = 1\n",
    "  vectors.append(vector)\n",
    "sns.heatmap(vectors, annot=True, cmap='YlGnBu', xticklabels=vocabulary.keys(),\n",
    "            yticklabels=['Text 1', 'Text2', 'Text 3'])\n",
    "plt.yticks(rotation=0)\n",
    "plt.show()"
   ]
  },
  {
   "cell_type": "markdown",
   "metadata": {},
   "source": [
    "### Finding shared words using vector arithmetic "
   ]
  },
  {
   "cell_type": "code",
   "execution_count": 62,
   "metadata": {},
   "outputs": [
    {
     "name": "stdout",
     "output_type": "stream",
     "text": [
      "'seashore' is present in both texts 1 and 2\n",
      "'seashells' is present in both texts 1 and 2\n",
      "'by' is present in both texts 1 and 2\n",
      "'the' is present in both texts 1 and 2\n"
     ]
    }
   ],
   "source": [
    "vector1, vector2 = vectors[:2]\n",
    "for i in range(len(vocabulary)):\n",
    "  if vector1[i] * vector2[i]:\n",
    "    shared_word = value_to_word[i]\n",
    "    print(f\"'{shared_word}' is present in both texts 1 and 2\")"
   ]
  },
  {
   "cell_type": "markdown",
   "metadata": {},
   "source": [
    "#### Counting shared words using vector arithmetic "
   ]
  },
  {
   "cell_type": "code",
   "execution_count": 63,
   "metadata": {},
   "outputs": [
    {
     "name": "stdout",
     "output_type": "stream",
     "text": [
      "4\n",
      "4\n"
     ]
    }
   ],
   "source": [
    "shared_word_count = sum(vector1[i] * vector2[i] for i in range(len(vocabulary))) \n",
    "print(shared_word_count)\n",
    "print(len(words_set1 & words_set2))\n",
    "assert shared_word_count == len(words_set1 & words_set2)"
   ]
  },
  {
   "cell_type": "markdown",
   "metadata": {},
   "source": [
    "#### Computing a vector dot product using numpy"
   ]
  },
  {
   "cell_type": "code",
   "execution_count": 64,
   "metadata": {},
   "outputs": [],
   "source": [
    "assert vector1.dot(vector2) == shared_word_count\n",
    "assert vector1 @ vector2 == shared_word_count"
   ]
  },
  {
   "cell_type": "markdown",
   "metadata": {},
   "source": [
    "#### Counting total words using vector arithmetic"
   ]
  },
  {
   "cell_type": "code",
   "execution_count": 65,
   "metadata": {},
   "outputs": [],
   "source": [
    "assert vector1 @ vector1 == len(words_set1)\n",
    "assert vector2 @ vector2 == len(words_set2)"
   ]
  },
  {
   "cell_type": "markdown",
   "metadata": {},
   "source": [
    "#### Tanimoto similarity is Jaccard similarity using only vector operations"
   ]
  },
  {
   "cell_type": "code",
   "execution_count": 66,
   "metadata": {},
   "outputs": [],
   "source": [
    "def tanimoto_similarity(vector_a, vector_b):\n",
    "  num_shared = vector_a @ vector_b\n",
    "  num_total = vector_a @ vector_a + vector_b @ vector_b - num_shared\n",
    "  return num_shared / num_total \n",
    "\n",
    "for i, text in enumerate([text2, text3], 1):\n",
    "  similarity = tanimoto_similarity(vector1, vectors[i])\n",
    "  assert similarity == jaccard_similarity(text1, text)"
   ]
  },
  {
   "cell_type": "markdown",
   "metadata": {},
   "source": [
    "#### Computing the similarity of non-binary vectors \n",
    "\n",
    "we can use non-binary inputs to calculate tanimoto_similarity"
   ]
  },
  {
   "cell_type": "code",
   "execution_count": 67,
   "metadata": {},
   "outputs": [
    {
     "name": "stdout",
     "output_type": "stream",
     "text": [
      "The similarity of 2 non-binary vectors is 0.96875\n"
     ]
    }
   ],
   "source": [
    "non_binary_vector1 = np.array([5, 3])\n",
    "non_binary_vector2 = np.array([5, 2])\n",
    "similarity = tanimoto_similarity(non_binary_vector1, non_binary_vector2)\n",
    "print(f'The similarity of 2 non-binary vectors is {similarity}')"
   ]
  },
  {
   "cell_type": "markdown",
   "metadata": {},
   "source": [
    "#### Computing TF vector similarity "
   ]
  },
  {
   "cell_type": "code",
   "execution_count": 68,
   "metadata": {},
   "outputs": [
    {
     "name": "stdout",
     "output_type": "stream",
     "text": [
      "The similarity between texts is approximately  0.024\n",
      "The similarity between texts is approximately  1.000\n"
     ]
    }
   ],
   "source": [
    "# computing similarity between Term Frequency vector and binary vector\n",
    "# in one text word duck mentioned 61 times and goose 2, in 2nd text duck mentioned 1 and goose 71\n",
    "\n",
    "similarity = tanimoto_similarity(np.array([61, 2]), np.array([1, 71])) \n",
    "print(f'The similarity between texts is approximately {similarity: .3f}')\n",
    "\n",
    "similarity = tanimoto_similarity(np.array([1, 1,]), np.array([1, 1]))\n",
    "print(f'The similarity between texts is approximately {similarity: .3f}')\n"
   ]
  },
  {
   "cell_type": "markdown",
   "metadata": {},
   "source": [
    "#### Compupting TF vectors from word lists "
   ]
  },
  {
   "cell_type": "code",
   "execution_count": 70,
   "metadata": {},
   "outputs": [
    {
     "data": {
      "image/png": "[encoded data removed]",
      "text/plain": [
       "<Figure size 640x480 with 2 Axes>"
      ]
     },
     "metadata": {},
     "output_type": "display_data"
    }
   ],
   "source": [
    "tf_vectors = [] \n",
    "for i, words_list in enumerate(words_lists, 1):\n",
    "  tf_vector = np.array([0] * len(vocabulary))\n",
    "  for word in words_list: \n",
    "    word_index = vocabulary[word]\n",
    "    tf_vector[word_index] += 1\n",
    "  tf_vectors.append(tf_vector)\n",
    "  \n",
    "sns.heatmap(tf_vectors, cmap='YlGnBu', annot=True,\n",
    "            xticklabels=vocabulary.keys(),\n",
    "            yticklabels=['Text 1', 'Text 2', 'Text 3'])\n",
    "plt.yticks(rotation=0)\n",
    "plt.show()\n",
    "  "
   ]
  },
  {
   "cell_type": "markdown",
   "metadata": {},
   "source": [
    "#### Comparing metrics of vector similarity \n",
    "\n",
    "- Using TF increases the sensitivity of the similarity score, compared to binary\n",
    "- However TF can also be detrimental when comparing texts of different lengths. \n",
    "- We need to apply normalization to mitigate this."
   ]
  },
  {
   "cell_type": "code",
   "execution_count": 71,
   "metadata": {},
   "outputs": [
    {
     "name": "stdout",
     "output_type": "stream",
     "text": [
      "The recomputed Tanimoto similaritybetween texts 1 and 2 is 0.4615\n",
      "Previously, that similarity equaled 0.4444\n",
      "\n",
      "The recomputed Tanimoto similaritybetween texts 1 and 3 is 0.4167\n",
      "Previously, that similarity equaled 0.4167\n",
      "\n"
     ]
    }
   ],
   "source": [
    "tf_vector1 = tf_vectors[0]\n",
    "binary_vector1 = vectors[0]\n",
    "\n",
    "for i, tf_vector in enumerate(tf_vectors[1:], 2):\n",
    "  similarity = tanimoto_similarity(tf_vector1, tf_vector)\n",
    "  old_similarity = tanimoto_similarity(binary_vector1, vectors[i - 1])\n",
    "  print(f'The recomputed Tanimoto similaritybetween texts 1 and {i} is {similarity:.4f}')\n",
    "  print(f'Previously, that similarity equaled {old_similarity:.4f}' '\\n')"
   ]
  },
  {
   "cell_type": "markdown",
   "metadata": {},
   "source": [
    "#### Using normalization to improve TF vector similarity "
   ]
  },
  {
   "cell_type": "code",
   "execution_count": 72,
   "metadata": {},
   "outputs": [],
   "source": [
    "query_vector = np.array([1, 1])\n",
    "title_a_vector = np.array([3, 3])\n",
    "title_b_vector = np.array([1, 0])"
   ]
  },
  {
   "cell_type": "markdown",
   "metadata": {},
   "source": [
    "#### Ranking titles by query similarity\n",
    "\n",
    "Most data scientist would say title A, would be a better match, but as we can see it's not, the discrepency is due to text size"
   ]
  },
  {
   "cell_type": "code",
   "execution_count": 73,
   "metadata": {},
   "outputs": [
    {
     "name": "stdout",
     "output_type": "stream",
     "text": [
      "'B: Pepperoni' has a query similarity of 0.5000\n",
      "'A: Pepperoni Pizza! Pepperoni Pizza! Pepperoni Pizza!' has a query similarity of 0.4286\n"
     ]
    }
   ],
   "source": [
    "titles = ['A: Pepperoni Pizza! Pepperoni Pizza! Pepperoni Pizza!', \n",
    "          'B: Pepperoni']\n",
    "title_vectors = [title_a_vector, title_b_vector]\n",
    "similarities = [tanimoto_similarity(query_vector, title_vector) for title_vector in title_vectors]\n",
    "\n",
    "for index in sorted(range(len(titles)), key=lambda i: similarities[i], reverse=True):\n",
    "  title = titles[index]\n",
    "  similarity = similarities[index]\n",
    "  print(f\"'{title}' has a query similarity of {similarity:.4f}\")"
   ]
  },
  {
   "cell_type": "markdown",
   "metadata": {},
   "source": [
    "#### Eliminating size differences through division "
   ]
  },
  {
   "cell_type": "code",
   "execution_count": 74,
   "metadata": {},
   "outputs": [],
   "source": [
    "assert np.array_equal(query_vector, title_a_vector / 3)\n",
    "assert tanimoto_similarity(query_vector, title_a_vector / 3) == 1"
   ]
  },
  {
   "cell_type": "markdown",
   "metadata": {},
   "source": [
    "#### Plotting TF vectors in 2D space "
   ]
  },
  {
   "cell_type": "code",
   "execution_count": 76,
   "metadata": {},
   "outputs": [
    {
     "data": {
      "image/png": "[encoded data removed]",
      "text/plain": [
       "<Figure size 640x480 with 1 Axes>"
      ]
     },
     "metadata": {},
     "output_type": "display_data"
    }
   ],
   "source": [
    "plt.plot([0, query_vector[0]], [0, query_vector[1]], c='k', linewidth=3, label='Query Vecotr')\n",
    "plt.plot([0, title_a_vector[0]], [0, title_a_vector[1]], c='b', \n",
    "         linestyle='--', label='Title A Vector')\n",
    "plt.plot([0, title_b_vector[0]], [0, title_b_vector[1]], c='g', \n",
    "         linewidth=2, linestyle='-.', label='Title B Vector')\n",
    "plt.xlabel('Pepperoni')\n",
    "plt.ylabel('Pizza')\n",
    "plt.legend()\n",
    "plt.show()"
   ]
  },
  {
   "cell_type": "markdown",
   "metadata": {},
   "source": [
    "In our plot, title_a_vecotr and query_vector point in the same direction. The only difference between the two <br>\n",
    "lines is that title_a_vector is 3 times as long. Shrinking title_a_vector wil lfor the two lines to be identiical."
   ]
  },
  {
   "cell_type": "markdown",
   "metadata": {},
   "source": [
    "#### Computing vector magnitude"
   ]
  },
  {
   "cell_type": "code",
   "execution_count": 79,
   "metadata": {},
   "outputs": [
    {
     "name": "stdout",
     "output_type": "stream",
     "text": [
      "Query Vector's magnitude is approximately 1.4142\n",
      "Title A Vector's magnitude is approximately 4.2426\n",
      "Title B Vector's magnitude is approximately 1.0000\n",
      "\n",
      "Vector A is 3x as long as Query Vector\n"
     ]
    }
   ],
   "source": [
    "from scipy.spatial.distance import euclidean \n",
    "from numpy.linalg import norm\n",
    "\n",
    "vector_names = ['Query Vector', 'Title A Vector', 'Title B Vector']\n",
    "tf_search_vectors = [query_vector, title_a_vector, title_b_vector]\n",
    "origin = np.array([0, 0])\n",
    "for name, tf_vector in zip(vector_names, tf_search_vectors):\n",
    "  magnitude = euclidean(tf_vector, origin) # magnitude equals euclidean distance between vector and origin\n",
    "  assert magnitude == norm(tf_vector)     # np norm returns the magnitude\n",
    "  assert magnitude == (tf_vector @ tf_vector) ** 0.5 # magnitude can also be computed using dot product\n",
    "  print(f\"{name}'s magnitude is approximately {magnitude:.4f}\")\n",
    "  \n",
    "magnitude_ration = norm(title_a_vector) / norm(query_vector)\n",
    "print(f'\\nVector A is {magnitude_ration:.0f}x as long as Query Vector')"
   ]
  },
  {
   "cell_type": "markdown",
   "metadata": {},
   "source": [
    "- Divding any vector by its magnitude transforms that magnitude to 1.\n",
    "- That division is called normalization, magnitude is also referenced as L@ norm\n",
    "- Running v / norm(v) returns a nromalized vector with a magnitude of 1"
   ]
  },
  {
   "cell_type": "markdown",
   "metadata": {},
   "source": [
    "#### Plotting normalized vectors"
   ]
  },
  {
   "cell_type": "code",
   "execution_count": 80,
   "metadata": {},
   "outputs": [
    {
     "data": {
      "image/png": "[encoded data removed]",
      "text/plain": [
       "<Figure size 640x480 with 1 Axes>"
      ]
     },
     "metadata": {},
     "output_type": "display_data"
    }
   ],
   "source": [
    "unit_query_vector = query_vector / norm(query_vector)\n",
    "unit_title_a_vector = title_a_vector / norm(title_a_vector)\n",
    "assert np.allclose(unit_query_vector, unit_title_a_vector) # two nromalized unit vectos are now identical, use np.allclose to confirm\n",
    "unit_title_b_vector = title_b_vector # Already a unit vector no need to normalize\n",
    "\n",
    "plt.plot([0, unit_query_vector[0]], [0, unit_query_vector[1]], c='k',\n",
    "         linewidth=3, label=\"normalized Query Vector\")\n",
    "plt.plot([0, unit_title_a_vector[0]], [0, unit_title_a_vector[1]], c='b',\n",
    "         linestyle='--', label='Normalized Title A Vector')\n",
    "plt.plot([0, unit_title_b_vector[0]], [0, unit_title_b_vector[1]], c='g', \n",
    "         linewidth=2, linestyle='-.', label='Title B Vector')\n",
    "plt.axis('equal')\n",
    "plt.legend()\n",
    "plt.show()"
   ]
  },
  {
   "cell_type": "markdown",
   "metadata": {},
   "source": [
    "#### Ranking title by unit vector similarity"
   ]
  },
  {
   "cell_type": "code",
   "execution_count": 81,
   "metadata": {},
   "outputs": [
    {
     "name": "stdout",
     "output_type": "stream",
     "text": [
      "'A: Pepperoni Pizza! Pepperoni Pizza! Pepperoni Pizza!' has a normalized query similarity of 1.0000\n",
      "'B: Pepperoni' has a normalized query similarity of 0.5469\n"
     ]
    }
   ],
   "source": [
    "unit_title_vectors = [unit_title_a_vector, unit_title_b_vector]\n",
    "similarities = [tanimoto_similarity(unit_query_vector, unit_title_vector)\n",
    "                for unit_title_vector in unit_title_vectors]\n",
    "\n",
    "for index in sorted(range(len(titles)), key=lambda i: similarities[i], reverse=True):\n",
    "  title = titles[index]\n",
    "  similarity = similarities[index]\n",
    "  print(f\"'{title}' has a normalized query similarity of {similarity:.4f}\")\n"
   ]
  },
  {
   "cell_type": "markdown",
   "metadata": {},
   "source": [
    "#### Computing a unit vector Tanimoto similarity "
   ]
  },
  {
   "cell_type": "code",
   "execution_count": 82,
   "metadata": {},
   "outputs": [],
   "source": [
    "def normalized_tanimoto(u1, u2):\n",
    "  dot_product = u1 @ u2 \n",
    "  return dot_product / (2 - dot_product)\n",
    "\n",
    "for unit_title_vector in unit_title_vectors[1:]:\n",
    "  similarity = normalized_tanimoto(unit_query_vector, unit_title_vector)\n",
    "  assert similarity == tanimoto_similarity(unit_query_vector, unit_title_vector)"
   ]
  },
  {
   "cell_type": "markdown",
   "metadata": {},
   "source": [
    "#### converting between unit vector metrics "
   ]
  },
  {
   "cell_type": "code",
   "execution_count": 84,
   "metadata": {},
   "outputs": [
    {
     "name": "stdout",
     "output_type": "stream",
     "text": [
      "We are comparing Normlaized Query Vector and Normalized Title A vector\n",
      "The Tanimoto similarity between vectors is 1.0000\n",
      "The cosine similarity between vectors is 1.0000\n",
      "The Euclidean distance between vectors is 0.0000\n",
      "The angle between vectors is 0.0000 degress\n",
      "\n",
      "We are comparing Normlaized Query Vector and Title B Vecotr\n",
      "The Tanimoto similarity between vectors is 0.5469\n",
      "The cosine similarity between vectors is 0.7071\n",
      "The Euclidean distance between vectors is 0.7654\n",
      "The angle between vectors is 45.0000 degress\n",
      "\n"
     ]
    }
   ],
   "source": [
    "unit_vector_names = ['Normalized Title A vector', 'Title B Vecotr']\n",
    "u1 = unit_query_vector \n",
    "\n",
    "for unit_vector_name, u2 in zip(unit_vector_names, unit_title_vectors):\n",
    "  similarity = normalized_tanimoto(u1, u2)\n",
    "  cosine_similarity = 2 * similarity / (1 + similarity)\n",
    "  assert cosine_similarity == u1 @ u2\n",
    "  angle = np.arccos(cosine_similarity)\n",
    "  euclidean_distance = (2 - 2 * cosine_similarity) ** 0.5 \n",
    "  assert round(euclidean_distance, 10) == round(euclidean(u1, u2), 10)\n",
    "  measurements = {'Tanimoto similarity': similarity, \n",
    "                  'cosine similarity': cosine_similarity, \n",
    "                  'Euclidean distance': euclidean_distance, \n",
    "                  'angle': np.degrees(angle)}\n",
    "  \n",
    "  print(f'We are comparing Normlaized Query Vector and {unit_vector_name}')\n",
    "  for measurement_type, value in measurements.items():\n",
    "    output = f'The {measurement_type} between vectors is {value:.4f}'\n",
    "    if measurement_type == 'angle':\n",
    "      output += ' degress\\n'\n",
    "      \n",
    "    print(output)"
   ]
  },
  {
   "cell_type": "markdown",
   "metadata": {},
   "source": [
    "The Tanimoto similarity between normalized vectors can be transformed into other metrics of similarity or distance.<br>\n",
    "This is useful for the following reasons:\n",
    "- Swapping the tanimoto similarity for Euclidean distance allows us to carry out K-means clustering on text data.\n",
    "- Swapping the Tanimoto similarity for cosine similarity simplifies our compuational requirements. All our compputations are reduced to basic dot product operations\n",
    "\n",
    "\n",
    "NLP practioners use the cosine similarity instead of the Tanimoto similarity. Research shows that in the long term, the Tanimoto similarity is more accurate than the cosine similarity. However in many practical applications, the two similarities are interchangeagble\n",
    "\n",
    "\n",
    "**Common unit vector comparisons metrics**\n",
    "- u1 @ u2 - The cosine of the angle between unit vectos u1 and u2 \n",
    "- (u1 @ u2) / (2 - u1 @ u2) - the Tanimotor similarity between unit vectors u1 and u2 \n",
    "- (2 -2 * u1 @ u2) ** 0.5 - The Euclidean distance between unit vectors u1 and u2\n",
    "\n",
    "\n",
    "Benefits of vector normalization \n",
    "- Swap between multiple comparison metrics \n",
    "- Elimination of text length as a differentiating signal. Let's us compare long and short texts with similar contents. \n",
    "- More efficient Tanimoto similarity computation - Only a single dot product operation \n",
    "- More efficient compuation of the similarity between every pair of vectors - This is called all-by-all similarity"
   ]
  },
  {
   "cell_type": "markdown",
   "metadata": {},
   "source": [
    "#### Computing a table of normalized Tanimoto similarities "
   ]
  },
  {
   "cell_type": "code",
   "execution_count": 85,
   "metadata": {},
   "outputs": [
    {
     "data": {
      "image/png": "[encoded data removed]",
      "text/plain": [
       "<Figure size 640x480 with 2 Axes>"
      ]
     },
     "metadata": {},
     "output_type": "display_data"
    }
   ],
   "source": [
    "num_texts = len(tf_vectors)\n",
    "similarities = np.array([[0.0] * num_texts for _ in range(num_texts)])\n",
    "unit_vectors = np.array([vector / norm(vector) for vector in tf_vectors])\n",
    "for i, vector_a in enumerate(unit_vectors): \n",
    "  for j, vector_b in enumerate(unit_vectors):\n",
    "    similarities[i][j] = normalized_tanimoto(vector_a, vector_b)\n",
    "    \n",
    "labels = ['Text1', 'Text 2', 'Text 3']\n",
    "sns.heatmap(similarities, cmap='YlGnBu', annot=True, \n",
    "            xticklabels=labels, yticklabels=labels)\n",
    "plt.yticks(rotation=0)\n",
    "plt.show()"
   ]
  },
  {
   "cell_type": "markdown",
   "metadata": {},
   "source": [
    "#### Comparing Pandas and NumPy matrix attributes "
   ]
  },
  {
   "cell_type": "code",
   "execution_count": 87,
   "metadata": {},
   "outputs": [
    {
     "name": "stdout",
     "output_type": "stream",
     "text": [
      "Our 2D NumPy array contains 3 rows and 15 columns\n",
      "Our Pandas DataFrame contains 3 rows and 15 columns\n"
     ]
    }
   ],
   "source": [
    "import pandas as pd \n",
    "\n",
    "matrices = [unit_vectors, pd.DataFrame(unit_vectors)]\n",
    "matrix_types = ['2D NumPy array', 'Pandas DataFrame']\n",
    "\n",
    "for matrix_type, matrix in zip(matrix_types, matrices): \n",
    "  row_count, column_count = matrix.shape\n",
    "  print(f'Our {matrix_type} contains {row_count} rows and {column_count} columns')\n",
    "  assert (column_count, row_count) == matrix.T.shape "
   ]
  },
  {
   "cell_type": "markdown",
   "metadata": {},
   "source": [
    "#### NumPy array addition and subtraction \n"
   ]
  },
  {
   "cell_type": "code",
   "execution_count": 89,
   "metadata": {},
   "outputs": [],
   "source": [
    "double_similarities = 2 * similarities \n",
    "np.array_equal(double_similarities, similarities + similarities) \n",
    "zero_matrix = similarities - similarities  \n",
    "negative_1_matrix = similarities - similarities - 1 \n",
    "\n",
    "for i in range(similarities.shape[0]): \n",
    "  for j in range(similarities.shape[1]): \n",
    "    assert double_similarities[i][j] == 2 * similarities[i][j] \n",
    "    assert zero_matrix[i][j] == 0 \n",
    "    assert negative_1_matrix[i][j] == -1"
   ]
  },
  {
   "cell_type": "markdown",
   "metadata": {},
   "source": [
    "#### NumPy array multiplication and division"
   ]
  },
  {
   "cell_type": "code",
   "execution_count": 90,
   "metadata": {},
   "outputs": [],
   "source": [
    "squared_similarities = similarities * similarities \n",
    "assert np.array_equal(squared_similarities, similarities ** 2) \n",
    "ones_matrix = similarities / similarities \n",
    "for i in range(similarities.shape[0]): \n",
    "  for j in range(similarities.shape[1]):\n",
    "    assert squared_similarities[i][j] == similarities[i][j] ** 2 \n",
    "    assert ones_matrix[i][j] == 1"
   ]
  },
  {
   "cell_type": "markdown",
   "metadata": {},
   "source": [
    "#### Converting between matrix similarity-types"
   ]
  },
  {
   "cell_type": "code",
   "execution_count": 91,
   "metadata": {},
   "outputs": [],
   "source": [
    "cosine_similarities = 2 * similarities / (1 + similarities) \n",
    "for i in range(similarities.shape[0]): \n",
    "  for j in range(similarities.shape[1]): \n",
    "    cosine_sim = unit_vectors[i] @ unit_vectors[j]\n",
    "    assert round(cosine_similarities[i][j], 15) == round(cosine_sim, 15)"
   ]
  },
  {
   "cell_type": "markdown",
   "metadata": {},
   "source": [
    "#### Accessing NumPy matrix rows and columns"
   ]
  },
  {
   "cell_type": "code",
   "execution_count": 93,
   "metadata": {},
   "outputs": [
    {
     "name": "stdout",
     "output_type": "stream",
     "text": [
      "Accessing rows and columns in the Similarities Matrix.\n",
      "Row at index 0 is:\n",
      "[1.         0.51442439 0.44452044]\n",
      "\n",
      "Column at index 0 is:\n",
      "[1.         0.51442439 0.44452044]\n",
      "\n",
      "Accessing rows and columns in the Unit Vectors Matrix.\n",
      "Row at index 0 is:\n",
      "[0.         0.         0.40824829 0.40824829 0.         0.\n",
      " 0.         0.         0.         0.         0.40824829 0.\n",
      " 0.40824829 0.40824829 0.40824829]\n",
      "\n",
      "Column at index 0 is:\n",
      "[0.        0.2773501 0.       ]\n",
      "\n"
     ]
    }
   ],
   "source": [
    "for name, matrix in [('Similarities', similarities), \n",
    "                     ('Unit Vectors', unit_vectors)]: \n",
    "  print(f\"Accessing rows and columns in the {name} Matrix.\") \n",
    "  row, column = matrix[0], matrix[:,0] \n",
    "  print(f\"Row at index 0 is:\\n{row}\") \n",
    "  print(f\"\\nColumn at index 0 is:\\n{column}\\n\")"
   ]
  },
  {
   "cell_type": "markdown",
   "metadata": {},
   "source": [
    "#### Comuting the dot product between a row and a column"
   ]
  },
  {
   "cell_type": "code",
   "execution_count": 94,
   "metadata": {},
   "outputs": [
    {
     "name": "stdout",
     "output_type": "stream",
     "text": [
      "The dot product between the row and column is: 0.1427\n"
     ]
    }
   ],
   "source": [
    "row = similarities[0] \n",
    "column = unit_vectors[:,0] \n",
    "dot_product = row @ column \n",
    "print(f\"The dot product between the row and column is: {dot_product:.4f}\")"
   ]
  },
  {
   "cell_type": "markdown",
   "metadata": {},
   "source": [
    "#### Comuting dot proudct between all rows and columns"
   ]
  },
  {
   "cell_type": "code",
   "execution_count": 95,
   "metadata": {},
   "outputs": [
    {
     "name": "stdout",
     "output_type": "stream",
     "text": [
      "The dot product between row 0 column 0 is: 0.1427\n",
      "The dot product between row 0 column 1 is: 0.1427\n",
      "The dot product between row 0 column 2 is: 0.5423\n",
      "The dot product between row 0 column 3 is: 0.5509\n",
      "The dot product between row 0 column 4 is: 0.1340\n",
      "The dot product between row 0 column 5 is: 0.1340\n",
      "The dot product between row 0 column 6 is: 0.1340\n",
      "The dot product between row 0 column 7 is: 0.1340\n",
      "The dot product between row 0 column 8 is: 0.1427\n",
      "The dot product between row 0 column 9 is: 0.1340\n",
      "The dot product between row 0 column 10 is: 0.8276\n",
      "The dot product between row 0 column 11 is: 0.1340\n",
      "The dot product between row 0 column 12 is: 0.5423\n",
      "The dot product between row 0 column 13 is: 0.6850\n",
      "The dot product between row 0 column 14 is: 0.8276\n",
      "The dot product between row 1 column 0 is: 0.2774\n",
      "The dot product between row 1 column 1 is: 0.2774\n",
      "The dot product between row 1 column 2 is: 0.2897\n",
      "The dot product between row 1 column 3 is: 0.4874\n",
      "The dot product between row 1 column 4 is: 0.0797\n",
      "The dot product between row 1 column 5 is: 0.0797\n",
      "The dot product between row 1 column 6 is: 0.0797\n",
      "The dot product between row 1 column 7 is: 0.0797\n",
      "The dot product between row 1 column 8 is: 0.2774\n",
      "The dot product between row 1 column 9 is: 0.0797\n",
      "The dot product between row 1 column 10 is: 0.8444\n",
      "The dot product between row 1 column 11 is: 0.0797\n",
      "The dot product between row 1 column 12 is: 0.2897\n",
      "The dot product between row 1 column 13 is: 0.5671\n",
      "The dot product between row 1 column 14 is: 0.8444\n",
      "The dot product between row 2 column 0 is: 0.0733\n",
      "The dot product between row 2 column 1 is: 0.0733\n",
      "The dot product between row 2 column 2 is: 0.4830\n",
      "The dot product between row 2 column 3 is: 0.2548\n",
      "The dot product between row 2 column 4 is: 0.3015\n",
      "The dot product between row 2 column 5 is: 0.3015\n",
      "The dot product between row 2 column 6 is: 0.3015\n",
      "The dot product between row 2 column 7 is: 0.3015\n",
      "The dot product between row 2 column 8 is: 0.0733\n",
      "The dot product between row 2 column 9 is: 0.3015\n",
      "The dot product between row 2 column 10 is: 0.6296\n",
      "The dot product between row 2 column 11 is: 0.3015\n",
      "The dot product between row 2 column 12 is: 0.4830\n",
      "The dot product between row 2 column 13 is: 0.5563\n",
      "The dot product between row 2 column 14 is: 0.6296\n"
     ]
    }
   ],
   "source": [
    "num_rows = similarities.shape[0] \n",
    "num_columns = unit_vectors.shape[1] \n",
    "for i in range(num_rows): \n",
    "  for j in range(num_columns): \n",
    "    row = similarities[i] \n",
    "    column = unit_vectors[:,j] \n",
    "    dot_product = row @ column \n",
    "    print(f\"The dot product between row {i} column {j} is: \" f\"{dot_product:.4f}\")"
   ]
  },
  {
   "cell_type": "markdown",
   "metadata": {},
   "source": [
    "#### Storing all-by-all dot products in a matrix"
   ]
  },
  {
   "cell_type": "code",
   "execution_count": 96,
   "metadata": {},
   "outputs": [
    {
     "name": "stdout",
     "output_type": "stream",
     "text": [
      "[[0.14267565 0.         0.         0.         0.         0.\n",
      "  0.         0.         0.         0.         0.         0.\n",
      "  0.         0.         0.        ]\n",
      " [0.         0.         0.         0.         0.         0.\n",
      "  0.         0.         0.         0.         0.         0.\n",
      "  0.         0.         0.        ]\n",
      " [0.         0.         0.         0.         0.         0.\n",
      "  0.         0.         0.         0.         0.         0.\n",
      "  0.         0.         0.        ]]\n",
      "[[0.14267565 0.14267565 0.         0.         0.         0.\n",
      "  0.         0.         0.         0.         0.         0.\n",
      "  0.         0.         0.        ]\n",
      " [0.         0.         0.         0.         0.         0.\n",
      "  0.         0.         0.         0.         0.         0.\n",
      "  0.         0.         0.        ]\n",
      " [0.         0.         0.         0.         0.         0.\n",
      "  0.         0.         0.         0.         0.         0.\n",
      "  0.         0.         0.        ]]\n",
      "[[0.14267565 0.14267565 0.54227624 0.         0.         0.\n",
      "  0.         0.         0.         0.         0.         0.\n",
      "  0.         0.         0.        ]\n",
      " [0.         0.         0.         0.         0.         0.\n",
      "  0.         0.         0.         0.         0.         0.\n",
      "  0.         0.         0.        ]\n",
      " [0.         0.         0.         0.         0.         0.\n",
      "  0.         0.         0.         0.         0.         0.\n",
      "  0.         0.         0.        ]]\n",
      "[[0.14267565 0.14267565 0.54227624 0.55092394 0.         0.\n",
      "  0.         0.         0.         0.         0.         0.\n",
      "  0.         0.         0.        ]\n",
      " [0.         0.         0.         0.         0.         0.\n",
      "  0.         0.         0.         0.         0.         0.\n",
      "  0.         0.         0.        ]\n",
      " [0.         0.         0.         0.         0.         0.\n",
      "  0.         0.         0.         0.         0.         0.\n",
      "  0.         0.         0.        ]]\n",
      "[[0.14267565 0.14267565 0.54227624 0.55092394 0.13402795 0.\n",
      "  0.         0.         0.         0.         0.         0.\n",
      "  0.         0.         0.        ]\n",
      " [0.         0.         0.         0.         0.         0.\n",
      "  0.         0.         0.         0.         0.         0.\n",
      "  0.         0.         0.        ]\n",
      " [0.         0.         0.         0.         0.         0.\n",
      "  0.         0.         0.         0.         0.         0.\n",
      "  0.         0.         0.        ]]\n",
      "[[0.14267565 0.14267565 0.54227624 0.55092394 0.13402795 0.13402795\n",
      "  0.         0.         0.         0.         0.         0.\n",
      "  0.         0.         0.        ]\n",
      " [0.         0.         0.         0.         0.         0.\n",
      "  0.         0.         0.         0.         0.         0.\n",
      "  0.         0.         0.        ]\n",
      " [0.         0.         0.         0.         0.         0.\n",
      "  0.         0.         0.         0.         0.         0.\n",
      "  0.         0.         0.        ]]\n",
      "[[0.14267565 0.14267565 0.54227624 0.55092394 0.13402795 0.13402795\n",
      "  0.13402795 0.         0.         0.         0.         0.\n",
      "  0.         0.         0.        ]\n",
      " [0.         0.         0.         0.         0.         0.\n",
      "  0.         0.         0.         0.         0.         0.\n",
      "  0.         0.         0.        ]\n",
      " [0.         0.         0.         0.         0.         0.\n",
      "  0.         0.         0.         0.         0.         0.\n",
      "  0.         0.         0.        ]]\n",
      "[[0.14267565 0.14267565 0.54227624 0.55092394 0.13402795 0.13402795\n",
      "  0.13402795 0.13402795 0.         0.         0.         0.\n",
      "  0.         0.         0.        ]\n",
      " [0.         0.         0.         0.         0.         0.\n",
      "  0.         0.         0.         0.         0.         0.\n",
      "  0.         0.         0.        ]\n",
      " [0.         0.         0.         0.         0.         0.\n",
      "  0.         0.         0.         0.         0.         0.\n",
      "  0.         0.         0.        ]]\n",
      "[[0.14267565 0.14267565 0.54227624 0.55092394 0.13402795 0.13402795\n",
      "  0.13402795 0.13402795 0.14267565 0.         0.         0.\n",
      "  0.         0.         0.        ]\n",
      " [0.         0.         0.         0.         0.         0.\n",
      "  0.         0.         0.         0.         0.         0.\n",
      "  0.         0.         0.        ]\n",
      " [0.         0.         0.         0.         0.         0.\n",
      "  0.         0.         0.         0.         0.         0.\n",
      "  0.         0.         0.        ]]\n",
      "[[0.14267565 0.14267565 0.54227624 0.55092394 0.13402795 0.13402795\n",
      "  0.13402795 0.13402795 0.14267565 0.13402795 0.         0.\n",
      "  0.         0.         0.        ]\n",
      " [0.         0.         0.         0.         0.         0.\n",
      "  0.         0.         0.         0.         0.         0.\n",
      "  0.         0.         0.        ]\n",
      " [0.         0.         0.         0.         0.         0.\n",
      "  0.         0.         0.         0.         0.         0.\n",
      "  0.         0.         0.        ]]\n",
      "[[0.14267565 0.14267565 0.54227624 0.55092394 0.13402795 0.13402795\n",
      "  0.13402795 0.13402795 0.14267565 0.13402795 0.82762755 0.\n",
      "  0.         0.         0.        ]\n",
      " [0.         0.         0.         0.         0.         0.\n",
      "  0.         0.         0.         0.         0.         0.\n",
      "  0.         0.         0.        ]\n",
      " [0.         0.         0.         0.         0.         0.\n",
      "  0.         0.         0.         0.         0.         0.\n",
      "  0.         0.         0.        ]]\n",
      "[[0.14267565 0.14267565 0.54227624 0.55092394 0.13402795 0.13402795\n",
      "  0.13402795 0.13402795 0.14267565 0.13402795 0.82762755 0.13402795\n",
      "  0.         0.         0.        ]\n",
      " [0.         0.         0.         0.         0.         0.\n",
      "  0.         0.         0.         0.         0.         0.\n",
      "  0.         0.         0.        ]\n",
      " [0.         0.         0.         0.         0.         0.\n",
      "  0.         0.         0.         0.         0.         0.\n",
      "  0.         0.         0.        ]]\n",
      "[[0.14267565 0.14267565 0.54227624 0.55092394 0.13402795 0.13402795\n",
      "  0.13402795 0.13402795 0.14267565 0.13402795 0.82762755 0.13402795\n",
      "  0.54227624 0.         0.        ]\n",
      " [0.         0.         0.         0.         0.         0.\n",
      "  0.         0.         0.         0.         0.         0.\n",
      "  0.         0.         0.        ]\n",
      " [0.         0.         0.         0.         0.         0.\n",
      "  0.         0.         0.         0.         0.         0.\n",
      "  0.         0.         0.        ]]\n",
      "[[0.14267565 0.14267565 0.54227624 0.55092394 0.13402795 0.13402795\n",
      "  0.13402795 0.13402795 0.14267565 0.13402795 0.82762755 0.13402795\n",
      "  0.54227624 0.6849519  0.        ]\n",
      " [0.         0.         0.         0.         0.         0.\n",
      "  0.         0.         0.         0.         0.         0.\n",
      "  0.         0.         0.        ]\n",
      " [0.         0.         0.         0.         0.         0.\n",
      "  0.         0.         0.         0.         0.         0.\n",
      "  0.         0.         0.        ]]\n",
      "[[0.14267565 0.14267565 0.54227624 0.55092394 0.13402795 0.13402795\n",
      "  0.13402795 0.13402795 0.14267565 0.13402795 0.82762755 0.13402795\n",
      "  0.54227624 0.6849519  0.82762755]\n",
      " [0.         0.         0.         0.         0.         0.\n",
      "  0.         0.         0.         0.         0.         0.\n",
      "  0.         0.         0.        ]\n",
      " [0.         0.         0.         0.         0.         0.\n",
      "  0.         0.         0.         0.         0.         0.\n",
      "  0.         0.         0.        ]]\n",
      "[[0.14267565 0.14267565 0.54227624 0.55092394 0.13402795 0.13402795\n",
      "  0.13402795 0.13402795 0.14267565 0.13402795 0.82762755 0.13402795\n",
      "  0.54227624 0.6849519  0.82762755]\n",
      " [0.2773501  0.         0.         0.         0.         0.\n",
      "  0.         0.         0.         0.         0.         0.\n",
      "  0.         0.         0.        ]\n",
      " [0.         0.         0.         0.         0.         0.\n",
      "  0.         0.         0.         0.         0.         0.\n",
      "  0.         0.         0.        ]]\n",
      "[[0.14267565 0.14267565 0.54227624 0.55092394 0.13402795 0.13402795\n",
      "  0.13402795 0.13402795 0.14267565 0.13402795 0.82762755 0.13402795\n",
      "  0.54227624 0.6849519  0.82762755]\n",
      " [0.2773501  0.2773501  0.         0.         0.         0.\n",
      "  0.         0.         0.         0.         0.         0.\n",
      "  0.         0.         0.        ]\n",
      " [0.         0.         0.         0.         0.         0.\n",
      "  0.         0.         0.         0.         0.         0.\n",
      "  0.         0.         0.        ]]\n",
      "[[0.14267565 0.14267565 0.54227624 0.55092394 0.13402795 0.13402795\n",
      "  0.13402795 0.13402795 0.14267565 0.13402795 0.82762755 0.13402795\n",
      "  0.54227624 0.6849519  0.82762755]\n",
      " [0.2773501  0.2773501  0.28970812 0.         0.         0.\n",
      "  0.         0.         0.         0.         0.         0.\n",
      "  0.         0.         0.        ]\n",
      " [0.         0.         0.         0.         0.         0.\n",
      "  0.         0.         0.         0.         0.         0.\n",
      "  0.         0.         0.        ]]\n",
      "[[0.14267565 0.14267565 0.54227624 0.55092394 0.13402795 0.13402795\n",
      "  0.13402795 0.13402795 0.14267565 0.13402795 0.82762755 0.13402795\n",
      "  0.54227624 0.6849519  0.82762755]\n",
      " [0.2773501  0.2773501  0.28970812 0.48736297 0.         0.\n",
      "  0.         0.         0.         0.         0.         0.\n",
      "  0.         0.         0.        ]\n",
      " [0.         0.         0.         0.         0.         0.\n",
      "  0.         0.         0.         0.         0.         0.\n",
      "  0.         0.         0.        ]]\n",
      "[[0.14267565 0.14267565 0.54227624 0.55092394 0.13402795 0.13402795\n",
      "  0.13402795 0.13402795 0.14267565 0.13402795 0.82762755 0.13402795\n",
      "  0.54227624 0.6849519  0.82762755]\n",
      " [0.2773501  0.2773501  0.28970812 0.48736297 0.07969524 0.\n",
      "  0.         0.         0.         0.         0.         0.\n",
      "  0.         0.         0.        ]\n",
      " [0.         0.         0.         0.         0.         0.\n",
      "  0.         0.         0.         0.         0.         0.\n",
      "  0.         0.         0.        ]]\n",
      "[[0.14267565 0.14267565 0.54227624 0.55092394 0.13402795 0.13402795\n",
      "  0.13402795 0.13402795 0.14267565 0.13402795 0.82762755 0.13402795\n",
      "  0.54227624 0.6849519  0.82762755]\n",
      " [0.2773501  0.2773501  0.28970812 0.48736297 0.07969524 0.07969524\n",
      "  0.         0.         0.         0.         0.         0.\n",
      "  0.         0.         0.        ]\n",
      " [0.         0.         0.         0.         0.         0.\n",
      "  0.         0.         0.         0.         0.         0.\n",
      "  0.         0.         0.        ]]\n",
      "[[0.14267565 0.14267565 0.54227624 0.55092394 0.13402795 0.13402795\n",
      "  0.13402795 0.13402795 0.14267565 0.13402795 0.82762755 0.13402795\n",
      "  0.54227624 0.6849519  0.82762755]\n",
      " [0.2773501  0.2773501  0.28970812 0.48736297 0.07969524 0.07969524\n",
      "  0.07969524 0.         0.         0.         0.         0.\n",
      "  0.         0.         0.        ]\n",
      " [0.         0.         0.         0.         0.         0.\n",
      "  0.         0.         0.         0.         0.         0.\n",
      "  0.         0.         0.        ]]\n",
      "[[0.14267565 0.14267565 0.54227624 0.55092394 0.13402795 0.13402795\n",
      "  0.13402795 0.13402795 0.14267565 0.13402795 0.82762755 0.13402795\n",
      "  0.54227624 0.6849519  0.82762755]\n",
      " [0.2773501  0.2773501  0.28970812 0.48736297 0.07969524 0.07969524\n",
      "  0.07969524 0.07969524 0.         0.         0.         0.\n",
      "  0.         0.         0.        ]\n",
      " [0.         0.         0.         0.         0.         0.\n",
      "  0.         0.         0.         0.         0.         0.\n",
      "  0.         0.         0.        ]]\n",
      "[[0.14267565 0.14267565 0.54227624 0.55092394 0.13402795 0.13402795\n",
      "  0.13402795 0.13402795 0.14267565 0.13402795 0.82762755 0.13402795\n",
      "  0.54227624 0.6849519  0.82762755]\n",
      " [0.2773501  0.2773501  0.28970812 0.48736297 0.07969524 0.07969524\n",
      "  0.07969524 0.07969524 0.2773501  0.         0.         0.\n",
      "  0.         0.         0.        ]\n",
      " [0.         0.         0.         0.         0.         0.\n",
      "  0.         0.         0.         0.         0.         0.\n",
      "  0.         0.         0.        ]]\n",
      "[[0.14267565 0.14267565 0.54227624 0.55092394 0.13402795 0.13402795\n",
      "  0.13402795 0.13402795 0.14267565 0.13402795 0.82762755 0.13402795\n",
      "  0.54227624 0.6849519  0.82762755]\n",
      " [0.2773501  0.2773501  0.28970812 0.48736297 0.07969524 0.07969524\n",
      "  0.07969524 0.07969524 0.2773501  0.07969524 0.         0.\n",
      "  0.         0.         0.        ]\n",
      " [0.         0.         0.         0.         0.         0.\n",
      "  0.         0.         0.         0.         0.         0.\n",
      "  0.         0.         0.        ]]\n",
      "[[0.14267565 0.14267565 0.54227624 0.55092394 0.13402795 0.13402795\n",
      "  0.13402795 0.13402795 0.14267565 0.13402795 0.82762755 0.13402795\n",
      "  0.54227624 0.6849519  0.82762755]\n",
      " [0.2773501  0.2773501  0.28970812 0.48736297 0.07969524 0.07969524\n",
      "  0.07969524 0.07969524 0.2773501  0.07969524 0.84440831 0.\n",
      "  0.         0.         0.        ]\n",
      " [0.         0.         0.         0.         0.         0.\n",
      "  0.         0.         0.         0.         0.         0.\n",
      "  0.         0.         0.        ]]\n",
      "[[0.14267565 0.14267565 0.54227624 0.55092394 0.13402795 0.13402795\n",
      "  0.13402795 0.13402795 0.14267565 0.13402795 0.82762755 0.13402795\n",
      "  0.54227624 0.6849519  0.82762755]\n",
      " [0.2773501  0.2773501  0.28970812 0.48736297 0.07969524 0.07969524\n",
      "  0.07969524 0.07969524 0.2773501  0.07969524 0.84440831 0.07969524\n",
      "  0.         0.         0.        ]\n",
      " [0.         0.         0.         0.         0.         0.\n",
      "  0.         0.         0.         0.         0.         0.\n",
      "  0.         0.         0.        ]]\n",
      "[[0.14267565 0.14267565 0.54227624 0.55092394 0.13402795 0.13402795\n",
      "  0.13402795 0.13402795 0.14267565 0.13402795 0.82762755 0.13402795\n",
      "  0.54227624 0.6849519  0.82762755]\n",
      " [0.2773501  0.2773501  0.28970812 0.48736297 0.07969524 0.07969524\n",
      "  0.07969524 0.07969524 0.2773501  0.07969524 0.84440831 0.07969524\n",
      "  0.28970812 0.         0.        ]\n",
      " [0.         0.         0.         0.         0.         0.\n",
      "  0.         0.         0.         0.         0.         0.\n",
      "  0.         0.         0.        ]]\n",
      "[[0.14267565 0.14267565 0.54227624 0.55092394 0.13402795 0.13402795\n",
      "  0.13402795 0.13402795 0.14267565 0.13402795 0.82762755 0.13402795\n",
      "  0.54227624 0.6849519  0.82762755]\n",
      " [0.2773501  0.2773501  0.28970812 0.48736297 0.07969524 0.07969524\n",
      "  0.07969524 0.07969524 0.2773501  0.07969524 0.84440831 0.07969524\n",
      "  0.28970812 0.56705821 0.        ]\n",
      " [0.         0.         0.         0.         0.         0.\n",
      "  0.         0.         0.         0.         0.         0.\n",
      "  0.         0.         0.        ]]\n",
      "[[0.14267565 0.14267565 0.54227624 0.55092394 0.13402795 0.13402795\n",
      "  0.13402795 0.13402795 0.14267565 0.13402795 0.82762755 0.13402795\n",
      "  0.54227624 0.6849519  0.82762755]\n",
      " [0.2773501  0.2773501  0.28970812 0.48736297 0.07969524 0.07969524\n",
      "  0.07969524 0.07969524 0.2773501  0.07969524 0.84440831 0.07969524\n",
      "  0.28970812 0.56705821 0.84440831]\n",
      " [0.         0.         0.         0.         0.         0.\n",
      "  0.         0.         0.         0.         0.         0.\n",
      "  0.         0.         0.        ]]\n",
      "[[0.14267565 0.14267565 0.54227624 0.55092394 0.13402795 0.13402795\n",
      "  0.13402795 0.13402795 0.14267565 0.13402795 0.82762755 0.13402795\n",
      "  0.54227624 0.6849519  0.82762755]\n",
      " [0.2773501  0.2773501  0.28970812 0.48736297 0.07969524 0.07969524\n",
      "  0.07969524 0.07969524 0.2773501  0.07969524 0.84440831 0.07969524\n",
      "  0.28970812 0.56705821 0.84440831]\n",
      " [0.07330896 0.         0.         0.         0.         0.\n",
      "  0.         0.         0.         0.         0.         0.\n",
      "  0.         0.         0.        ]]\n",
      "[[0.14267565 0.14267565 0.54227624 0.55092394 0.13402795 0.13402795\n",
      "  0.13402795 0.13402795 0.14267565 0.13402795 0.82762755 0.13402795\n",
      "  0.54227624 0.6849519  0.82762755]\n",
      " [0.2773501  0.2773501  0.28970812 0.48736297 0.07969524 0.07969524\n",
      "  0.07969524 0.07969524 0.2773501  0.07969524 0.84440831 0.07969524\n",
      "  0.28970812 0.56705821 0.84440831]\n",
      " [0.07330896 0.07330896 0.         0.         0.         0.\n",
      "  0.         0.         0.         0.         0.         0.\n",
      "  0.         0.         0.        ]]\n",
      "[[0.14267565 0.14267565 0.54227624 0.55092394 0.13402795 0.13402795\n",
      "  0.13402795 0.13402795 0.14267565 0.13402795 0.82762755 0.13402795\n",
      "  0.54227624 0.6849519  0.82762755]\n",
      " [0.2773501  0.2773501  0.28970812 0.48736297 0.07969524 0.07969524\n",
      "  0.07969524 0.07969524 0.2773501  0.07969524 0.84440831 0.07969524\n",
      "  0.28970812 0.56705821 0.84440831]\n",
      " [0.07330896 0.07330896 0.48298605 0.         0.         0.\n",
      "  0.         0.         0.         0.         0.         0.\n",
      "  0.         0.         0.        ]]\n",
      "[[0.14267565 0.14267565 0.54227624 0.55092394 0.13402795 0.13402795\n",
      "  0.13402795 0.13402795 0.14267565 0.13402795 0.82762755 0.13402795\n",
      "  0.54227624 0.6849519  0.82762755]\n",
      " [0.2773501  0.2773501  0.28970812 0.48736297 0.07969524 0.07969524\n",
      "  0.07969524 0.07969524 0.2773501  0.07969524 0.84440831 0.07969524\n",
      "  0.28970812 0.56705821 0.84440831]\n",
      " [0.07330896 0.07330896 0.48298605 0.25478367 0.         0.\n",
      "  0.         0.         0.         0.         0.         0.\n",
      "  0.         0.         0.        ]]\n",
      "[[0.14267565 0.14267565 0.54227624 0.55092394 0.13402795 0.13402795\n",
      "  0.13402795 0.13402795 0.14267565 0.13402795 0.82762755 0.13402795\n",
      "  0.54227624 0.6849519  0.82762755]\n",
      " [0.2773501  0.2773501  0.28970812 0.48736297 0.07969524 0.07969524\n",
      "  0.07969524 0.07969524 0.2773501  0.07969524 0.84440831 0.07969524\n",
      "  0.28970812 0.56705821 0.84440831]\n",
      " [0.07330896 0.07330896 0.48298605 0.25478367 0.30151134 0.\n",
      "  0.         0.         0.         0.         0.         0.\n",
      "  0.         0.         0.        ]]\n",
      "[[0.14267565 0.14267565 0.54227624 0.55092394 0.13402795 0.13402795\n",
      "  0.13402795 0.13402795 0.14267565 0.13402795 0.82762755 0.13402795\n",
      "  0.54227624 0.6849519  0.82762755]\n",
      " [0.2773501  0.2773501  0.28970812 0.48736297 0.07969524 0.07969524\n",
      "  0.07969524 0.07969524 0.2773501  0.07969524 0.84440831 0.07969524\n",
      "  0.28970812 0.56705821 0.84440831]\n",
      " [0.07330896 0.07330896 0.48298605 0.25478367 0.30151134 0.30151134\n",
      "  0.         0.         0.         0.         0.         0.\n",
      "  0.         0.         0.        ]]\n",
      "[[0.14267565 0.14267565 0.54227624 0.55092394 0.13402795 0.13402795\n",
      "  0.13402795 0.13402795 0.14267565 0.13402795 0.82762755 0.13402795\n",
      "  0.54227624 0.6849519  0.82762755]\n",
      " [0.2773501  0.2773501  0.28970812 0.48736297 0.07969524 0.07969524\n",
      "  0.07969524 0.07969524 0.2773501  0.07969524 0.84440831 0.07969524\n",
      "  0.28970812 0.56705821 0.84440831]\n",
      " [0.07330896 0.07330896 0.48298605 0.25478367 0.30151134 0.30151134\n",
      "  0.30151134 0.         0.         0.         0.         0.\n",
      "  0.         0.         0.        ]]\n",
      "[[0.14267565 0.14267565 0.54227624 0.55092394 0.13402795 0.13402795\n",
      "  0.13402795 0.13402795 0.14267565 0.13402795 0.82762755 0.13402795\n",
      "  0.54227624 0.6849519  0.82762755]\n",
      " [0.2773501  0.2773501  0.28970812 0.48736297 0.07969524 0.07969524\n",
      "  0.07969524 0.07969524 0.2773501  0.07969524 0.84440831 0.07969524\n",
      "  0.28970812 0.56705821 0.84440831]\n",
      " [0.07330896 0.07330896 0.48298605 0.25478367 0.30151134 0.30151134\n",
      "  0.30151134 0.30151134 0.         0.         0.         0.\n",
      "  0.         0.         0.        ]]\n",
      "[[0.14267565 0.14267565 0.54227624 0.55092394 0.13402795 0.13402795\n",
      "  0.13402795 0.13402795 0.14267565 0.13402795 0.82762755 0.13402795\n",
      "  0.54227624 0.6849519  0.82762755]\n",
      " [0.2773501  0.2773501  0.28970812 0.48736297 0.07969524 0.07969524\n",
      "  0.07969524 0.07969524 0.2773501  0.07969524 0.84440831 0.07969524\n",
      "  0.28970812 0.56705821 0.84440831]\n",
      " [0.07330896 0.07330896 0.48298605 0.25478367 0.30151134 0.30151134\n",
      "  0.30151134 0.30151134 0.07330896 0.         0.         0.\n",
      "  0.         0.         0.        ]]\n",
      "[[0.14267565 0.14267565 0.54227624 0.55092394 0.13402795 0.13402795\n",
      "  0.13402795 0.13402795 0.14267565 0.13402795 0.82762755 0.13402795\n",
      "  0.54227624 0.6849519  0.82762755]\n",
      " [0.2773501  0.2773501  0.28970812 0.48736297 0.07969524 0.07969524\n",
      "  0.07969524 0.07969524 0.2773501  0.07969524 0.84440831 0.07969524\n",
      "  0.28970812 0.56705821 0.84440831]\n",
      " [0.07330896 0.07330896 0.48298605 0.25478367 0.30151134 0.30151134\n",
      "  0.30151134 0.30151134 0.07330896 0.30151134 0.         0.\n",
      "  0.         0.         0.        ]]\n",
      "[[0.14267565 0.14267565 0.54227624 0.55092394 0.13402795 0.13402795\n",
      "  0.13402795 0.13402795 0.14267565 0.13402795 0.82762755 0.13402795\n",
      "  0.54227624 0.6849519  0.82762755]\n",
      " [0.2773501  0.2773501  0.28970812 0.48736297 0.07969524 0.07969524\n",
      "  0.07969524 0.07969524 0.2773501  0.07969524 0.84440831 0.07969524\n",
      "  0.28970812 0.56705821 0.84440831]\n",
      " [0.07330896 0.07330896 0.48298605 0.25478367 0.30151134 0.30151134\n",
      "  0.30151134 0.30151134 0.07330896 0.30151134 0.62960397 0.\n",
      "  0.         0.         0.        ]]\n",
      "[[0.14267565 0.14267565 0.54227624 0.55092394 0.13402795 0.13402795\n",
      "  0.13402795 0.13402795 0.14267565 0.13402795 0.82762755 0.13402795\n",
      "  0.54227624 0.6849519  0.82762755]\n",
      " [0.2773501  0.2773501  0.28970812 0.48736297 0.07969524 0.07969524\n",
      "  0.07969524 0.07969524 0.2773501  0.07969524 0.84440831 0.07969524\n",
      "  0.28970812 0.56705821 0.84440831]\n",
      " [0.07330896 0.07330896 0.48298605 0.25478367 0.30151134 0.30151134\n",
      "  0.30151134 0.30151134 0.07330896 0.30151134 0.62960397 0.30151134\n",
      "  0.         0.         0.        ]]\n",
      "[[0.14267565 0.14267565 0.54227624 0.55092394 0.13402795 0.13402795\n",
      "  0.13402795 0.13402795 0.14267565 0.13402795 0.82762755 0.13402795\n",
      "  0.54227624 0.6849519  0.82762755]\n",
      " [0.2773501  0.2773501  0.28970812 0.48736297 0.07969524 0.07969524\n",
      "  0.07969524 0.07969524 0.2773501  0.07969524 0.84440831 0.07969524\n",
      "  0.28970812 0.56705821 0.84440831]\n",
      " [0.07330896 0.07330896 0.48298605 0.25478367 0.30151134 0.30151134\n",
      "  0.30151134 0.30151134 0.07330896 0.30151134 0.62960397 0.30151134\n",
      "  0.48298605 0.         0.        ]]\n",
      "[[0.14267565 0.14267565 0.54227624 0.55092394 0.13402795 0.13402795\n",
      "  0.13402795 0.13402795 0.14267565 0.13402795 0.82762755 0.13402795\n",
      "  0.54227624 0.6849519  0.82762755]\n",
      " [0.2773501  0.2773501  0.28970812 0.48736297 0.07969524 0.07969524\n",
      "  0.07969524 0.07969524 0.2773501  0.07969524 0.84440831 0.07969524\n",
      "  0.28970812 0.56705821 0.84440831]\n",
      " [0.07330896 0.07330896 0.48298605 0.25478367 0.30151134 0.30151134\n",
      "  0.30151134 0.30151134 0.07330896 0.30151134 0.62960397 0.30151134\n",
      "  0.48298605 0.55629501 0.        ]]\n",
      "[[0.14267565 0.14267565 0.54227624 0.55092394 0.13402795 0.13402795\n",
      "  0.13402795 0.13402795 0.14267565 0.13402795 0.82762755 0.13402795\n",
      "  0.54227624 0.6849519  0.82762755]\n",
      " [0.2773501  0.2773501  0.28970812 0.48736297 0.07969524 0.07969524\n",
      "  0.07969524 0.07969524 0.2773501  0.07969524 0.84440831 0.07969524\n",
      "  0.28970812 0.56705821 0.84440831]\n",
      " [0.07330896 0.07330896 0.48298605 0.25478367 0.30151134 0.30151134\n",
      "  0.30151134 0.30151134 0.07330896 0.30151134 0.62960397 0.30151134\n",
      "  0.48298605 0.55629501 0.62960397]]\n"
     ]
    }
   ],
   "source": [
    "dot_products = np.zeros((num_rows, num_columns)) \n",
    "for i in range(num_rows):\n",
    "  for j in range(num_columns): \n",
    "    dot_products[i][j] = similarities[i] @ unit_vectors[:,j] \n",
    "    print(dot_products)"
   ]
  },
  {
   "cell_type": "markdown",
   "metadata": {},
   "source": [
    "#### Comuting a matrix product using NumPy"
   ]
  },
  {
   "cell_type": "code",
   "execution_count": 97,
   "metadata": {},
   "outputs": [],
   "source": [
    "matrix_product = similarities @ unit_vectors \n",
    "assert np.allclose(matrix_product, dot_products)"
   ]
  },
  {
   "cell_type": "markdown",
   "metadata": {},
   "source": [
    "#### Computing an erroneous matrix product"
   ]
  },
  {
   "cell_type": "code",
   "execution_count": 98,
   "metadata": {},
   "outputs": [
    {
     "name": "stdout",
     "output_type": "stream",
     "text": [
      "We can't compute the matrix product\n"
     ]
    }
   ],
   "source": [
    "try:\n",
    "  matrix_product = unit_vectors @ similarities \n",
    "except: \n",
    "  print(\"We can't compute the matrix product\")\n"
   ]
  },
  {
   "cell_type": "markdown",
   "metadata": {},
   "source": [
    "#### Running matrix multiplication using matmul"
   ]
  },
  {
   "cell_type": "code",
   "execution_count": 105,
   "metadata": {},
   "outputs": [],
   "source": [
    "matrix_product = np.matmul(similarities, unit_vectors) \n",
    "assert np.array_equal(matrix_product, similarities @ unit_vectors)"
   ]
  },
  {
   "cell_type": "markdown",
   "metadata": {},
   "source": [
    "#### Comparing matrix product running times"
   ]
  },
  {
   "cell_type": "code",
   "execution_count": 104,
   "metadata": {},
   "outputs": [
    {
     "data": {
      "image/png": "[encoded data removed]",
      "text/plain": [
       "<Figure size 640x480 with 1 Axes>"
      ]
     },
     "metadata": {},
     "output_type": "display_data"
    }
   ],
   "source": [
    "import time \n",
    "numpy_run_times = [] \n",
    "for_loop_run_times = []\n",
    "\n",
    "matrix_sizes = range(1, 101) \n",
    "\n",
    "for size in matrix_sizes: \n",
    "  matrix = np.ones((size, size)) \n",
    "  start_time = time.time() \n",
    "  matrix @ matrix \n",
    "  numpy_run_times.append(time.time() - start_time) \n",
    "  start_time = time.time() \n",
    "  for i in range(size): \n",
    "    for j in range(size): \n",
    "      matrix[i] @ matrix[:,j] \n",
    "  for_loop_run_times.append(time.time() - start_time) \n",
    "plt.plot(matrix_sizes, numpy_run_times, label='NumPy Matrix Product', linestyle='--') \n",
    "plt.plot(matrix_sizes, for_loop_run_times, label='For-Loop Matrix Product', color='k') \n",
    "plt.xlabel('Row / Column Size') \n",
    "plt.ylabel('Running Time (Seconds)')\n",
    "plt.legend() \n",
    "plt.show()"
   ]
  },
  {
   "cell_type": "markdown",
   "metadata": {},
   "source": [
    "#### Obtaining cosines from a matrix product"
   ]
  },
  {
   "cell_type": "code",
   "execution_count": 103,
   "metadata": {},
   "outputs": [],
   "source": [
    "cosine_matrix = unit_vectors @ unit_vectors.T \n",
    "assert np.allclose(cosine_matrix, cosine_similarities)"
   ]
  },
  {
   "cell_type": "markdown",
   "metadata": {},
   "source": [
    "#### Converting cosines to a Tanimoto matrix"
   ]
  },
  {
   "cell_type": "code",
   "execution_count": 106,
   "metadata": {},
   "outputs": [],
   "source": [
    "tanimoto_matrix = cosine_matrix / (2 - cosine_matrix) \n",
    "assert np.allclose(tanimoto_matrix, similarities)"
   ]
  },
  {
   "cell_type": "markdown",
   "metadata": {},
   "source": [
    "#### Inputting matrices into normalized_tanimoto"
   ]
  },
  {
   "cell_type": "code",
   "execution_count": 107,
   "metadata": {},
   "outputs": [],
   "source": [
    "output = normalized_tanimoto(unit_vectors, unit_vectors.T) \n",
    "assert np.array_equal(output, tanimoto_matrix)\n"
   ]
  },
  {
   "cell_type": "markdown",
   "metadata": {},
   "source": [
    "#### Timing an all-by-all comparison of 30 novels"
   ]
  },
  {
   "cell_type": "code",
   "execution_count": 108,
   "metadata": {},
   "outputs": [
    {
     "name": "stdout",
     "output_type": "stream",
     "text": [
      "It took 0.0048 seconds to compute the similarities across a 30-book by 50000-word matrix\n"
     ]
    }
   ],
   "source": [
    "vocabulary_size = 50000 \n",
    "normalized_vector = [1 / vocabulary_size] * vocabulary_size \n",
    "book_count = 30 \n",
    "\n",
    "def measure_run_time(book_count): \n",
    "  book_matrix = np.array([normalized_vector] * book_count)\n",
    "  start_time = time.time() \n",
    "  normalized_tanimoto(book_matrix, book_matrix.T) \n",
    "  return time.time() - start_time\n",
    "run_time = measure_run_time(book_count) \n",
    "print(f\"It took {run_time:.4f} seconds to compute the similarities across a \" f\"{book_count}-book by {vocabulary_size}-word matrix\")\n"
   ]
  },
  {
   "cell_type": "markdown",
   "metadata": {},
   "source": [
    "#### Plotting book counts vs. running times"
   ]
  },
  {
   "cell_type": "code",
   "execution_count": 109,
   "metadata": {},
   "outputs": [
    {
     "data": {
      "image/png": "[encoded data removed]",
      "text/plain": [
       "<Figure size 640x480 with 1 Axes>"
      ]
     },
     "metadata": {},
     "output_type": "display_data"
    }
   ],
   "source": [
    "book_counts = range(30, 1000, 30) \n",
    "run_times = [measure_run_time(book_count) \n",
    "             for book_count in book_counts] \n",
    "plt.scatter(book_counts, run_times) \n",
    "plt.xlabel('Book Count') \n",
    "plt.ylabel('Running Time (Seconds)') \n",
    "plt.show()"
   ]
  },
  {
   "cell_type": "markdown",
   "metadata": {},
   "source": [
    "#### Modelling running times using a quadratic curve"
   ]
  },
  {
   "cell_type": "code",
   "execution_count": 111,
   "metadata": {},
   "outputs": [
    {
     "data": {
      "image/png": "[encoded data removed]",
      "text/plain": [
       "<Figure size 640x480 with 1 Axes>"
      ]
     },
     "metadata": {},
     "output_type": "display_data"
    }
   ],
   "source": [
    "def y(x): return (0.27 / (1000 ** 2)) * (x ** 2) \n",
    "plt.scatter(book_counts, run_times) \n",
    "plt.plot(book_counts, y(np.array(book_counts)), c='k') \n",
    "plt.xlabel('Book Count') \n",
    "plt.ylabel('Running Time (Seconds)') \n",
    "plt.show()"
   ]
  },
  {
   "cell_type": "markdown",
   "metadata": {},
   "source": [
    "#### Predicting the running time for 300000 books"
   ]
  },
  {
   "cell_type": "code",
   "execution_count": 112,
   "metadata": {},
   "outputs": [
    {
     "name": "stdout",
     "output_type": "stream",
     "text": [
      "It will take 6.75 hours to compute all-by-all similarities from a 300000-book by 50000-word matrix\n"
     ]
    }
   ],
   "source": [
    "book_count = 300000 \n",
    "run_time = y(book_count) / 3600 \n",
    "print(f\"It will take {run_time} hours to compute all-by-all similarities \" \n",
    "      f\"from a {book_count}-book by {vocabulary_size}-word matrix\")"
   ]
  }
 ],
 "metadata": {
  "kernelspec": {
   "display_name": ".venv",
   "language": "python",
   "name": "python3"
  },
  "language_info": {
   "codemirror_mode": {
    "name": "ipython",
    "version": 3
   },
   "file_extension": ".py",
   "mimetype": "text/x-python",
   "name": "python",
   "nbconvert_exporter": "python",
   "pygments_lexer": "ipython3",
   "version": "3.11.5"
  }
 },
 "nbformat": 4,
 "nbformat_minor": 2
}
