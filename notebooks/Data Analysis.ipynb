{
 "cells": [
  {
   "cell_type": "markdown",
   "id": "a160582c-6cd3-4c19-b534-6546dc3ce0c2",
   "metadata": {
    "jp-MarkdownHeadingCollapsed": true
   },
   "source": [
    "# Dataset Import and Basic Dataset Information"
   ]
  },
  {
   "cell_type": "code",
   "execution_count": 1,
   "id": "f91a4c07-77a0-4ede-a023-d7173e015ec4",
   "metadata": {},
   "outputs": [],
   "source": [
    "import pandas as pd"
   ]
  },
  {
   "cell_type": "code",
   "execution_count": 2,
   "id": "063fc986-d78e-43ff-9c7d-9b3d76e4f77b",
   "metadata": {},
   "outputs": [],
   "source": [
    "data = pd.read_csv(\"./data/marketing_sample_for_trulia_com-real_estate__20190901_20191031__30k_data.csv\")"
   ]
  },
  {
   "cell_type": "code",
   "execution_count": 3,
   "id": "da85cdfa-42aa-4f97-bce7-9894c5d097de",
   "metadata": {},
   "outputs": [
    {
     "data": {
      "text/plain": [
       "(30002, 30)"
      ]
     },
     "execution_count": 3,
     "metadata": {},
     "output_type": "execute_result"
    }
   ],
   "source": [
    "data.shape"
   ]
  },
  {
   "cell_type": "code",
   "execution_count": 4,
   "id": "a2776226-9531-4f34-a301-c176165c3e59",
   "metadata": {},
   "outputs": [
    {
     "name": "stdout",
     "output_type": "stream",
     "text": [
      "<class 'pandas.core.frame.DataFrame'>\n",
      "RangeIndex: 30002 entries, 0 to 30001\n",
      "Data columns (total 30 columns):\n",
      " #   Column              Non-Null Count  Dtype  \n",
      "---  ------              --------------  -----  \n",
      " 0   Job Title           30002 non-null  object \n",
      " 1   Job Description     30002 non-null  object \n",
      " 2   Job Type            0 non-null      float64\n",
      " 3   Categories          0 non-null      float64\n",
      " 4   Location            30002 non-null  object \n",
      " 5   City                30002 non-null  object \n",
      " 6   State               30002 non-null  object \n",
      " 7   Country             30002 non-null  object \n",
      " 8   Zip Code            16252 non-null  object \n",
      " 9   Address             0 non-null      float64\n",
      " 10  Salary From         0 non-null      float64\n",
      " 11  Salary To           0 non-null      float64\n",
      " 12  Salary Period       0 non-null      float64\n",
      " 13  Apply Url           18392 non-null  object \n",
      " 14  Apply Email         0 non-null      float64\n",
      " 15  Employees           0 non-null      float64\n",
      " 16  Industry            0 non-null      float64\n",
      " 17  Company Name        30000 non-null  object \n",
      " 18  Employer Email      0 non-null      float64\n",
      " 19  Employer Website    0 non-null      float64\n",
      " 20  Employer Phone      0 non-null      float64\n",
      " 21  Employer Logo       18708 non-null  object \n",
      " 22  Companydescription  19662 non-null  object \n",
      " 23  Employer Location   3348 non-null   object \n",
      " 24  Employer City       3316 non-null   object \n",
      " 25  Employer State      3316 non-null   object \n",
      " 26  Employer Country    30002 non-null  object \n",
      " 27  Employer Zip Code   1743 non-null   object \n",
      " 28  Uniq Id             30002 non-null  object \n",
      " 29  Crawl Timestamp     30002 non-null  object \n",
      "dtypes: float64(12), object(18)\n",
      "memory usage: 6.9+ MB\n"
     ]
    }
   ],
   "source": [
    "data.info()"
   ]
  },
  {
   "cell_type": "code",
   "execution_count": 5,
   "id": "b5477d8e-325b-4797-aa59-a062df83f46f",
   "metadata": {},
   "outputs": [],
   "source": [
    "data = data[['Job Title','Job Description','City','State','Country','Company Name']]"
   ]
  },
  {
   "cell_type": "code",
   "execution_count": 6,
   "id": "6710d557-e3cb-46e6-9beb-8e92891573f9",
   "metadata": {},
   "outputs": [
    {
     "data": {
      "text/html": [
       "<div>\n",
       "<style scoped>\n",
       "    .dataframe tbody tr th:only-of-type {\n",
       "        vertical-align: middle;\n",
       "    }\n",
       "\n",
       "    .dataframe tbody tr th {\n",
       "        vertical-align: top;\n",
       "    }\n",
       "\n",
       "    .dataframe thead th {\n",
       "        text-align: right;\n",
       "    }\n",
       "</style>\n",
       "<table border=\"1\" class=\"dataframe\">\n",
       "  <thead>\n",
       "    <tr style=\"text-align: right;\">\n",
       "      <th></th>\n",
       "      <th>Job Title</th>\n",
       "      <th>Job Description</th>\n",
       "      <th>City</th>\n",
       "      <th>State</th>\n",
       "      <th>Country</th>\n",
       "      <th>Company Name</th>\n",
       "    </tr>\n",
       "  </thead>\n",
       "  <tbody>\n",
       "    <tr>\n",
       "      <th>count</th>\n",
       "      <td>30002</td>\n",
       "      <td>30002</td>\n",
       "      <td>30002</td>\n",
       "      <td>30002</td>\n",
       "      <td>30002</td>\n",
       "      <td>30000</td>\n",
       "    </tr>\n",
       "    <tr>\n",
       "      <th>unique</th>\n",
       "      <td>18077</td>\n",
       "      <td>24714</td>\n",
       "      <td>3472</td>\n",
       "      <td>81</td>\n",
       "      <td>1</td>\n",
       "      <td>12740</td>\n",
       "    </tr>\n",
       "    <tr>\n",
       "      <th>top</th>\n",
       "      <td>Account Executive</td>\n",
       "      <td>&lt;div id=\"jobDescriptionText\" class=\"jobsearch-...</td>\n",
       "      <td>New York</td>\n",
       "      <td>CA</td>\n",
       "      <td>United States</td>\n",
       "      <td>Lids</td>\n",
       "    </tr>\n",
       "    <tr>\n",
       "      <th>freq</th>\n",
       "      <td>329</td>\n",
       "      <td>209</td>\n",
       "      <td>1260</td>\n",
       "      <td>4495</td>\n",
       "      <td>30002</td>\n",
       "      <td>425</td>\n",
       "    </tr>\n",
       "  </tbody>\n",
       "</table>\n",
       "</div>"
      ],
      "text/plain": [
       "                Job Title                                    Job Description  \\\n",
       "count               30002                                              30002   \n",
       "unique              18077                                              24714   \n",
       "top     Account Executive  <div id=\"jobDescriptionText\" class=\"jobsearch-...   \n",
       "freq                  329                                                209   \n",
       "\n",
       "            City  State        Country Company Name  \n",
       "count      30002  30002          30002        30000  \n",
       "unique      3472     81              1        12740  \n",
       "top     New York     CA  United States         Lids  \n",
       "freq        1260   4495          30002          425  "
      ]
     },
     "execution_count": 6,
     "metadata": {},
     "output_type": "execute_result"
    }
   ],
   "source": [
    "data.describe(include = \"object\")"
   ]
  },
  {
   "cell_type": "code",
   "execution_count": 8,
   "id": "94c57a9c-bf3d-4d27-9aef-7eb09b46c724",
   "metadata": {},
   "outputs": [
    {
     "data": {
      "text/html": [
       "<div>\n",
       "<style scoped>\n",
       "    .dataframe tbody tr th:only-of-type {\n",
       "        vertical-align: middle;\n",
       "    }\n",
       "\n",
       "    .dataframe tbody tr th {\n",
       "        vertical-align: top;\n",
       "    }\n",
       "\n",
       "    .dataframe thead th {\n",
       "        text-align: right;\n",
       "    }\n",
       "</style>\n",
       "<table border=\"1\" class=\"dataframe\">\n",
       "  <thead>\n",
       "    <tr style=\"text-align: right;\">\n",
       "      <th></th>\n",
       "      <th>Job Title</th>\n",
       "      <th>Job Description</th>\n",
       "      <th>City</th>\n",
       "      <th>State</th>\n",
       "      <th>Country</th>\n",
       "      <th>Company Name</th>\n",
       "    </tr>\n",
       "  </thead>\n",
       "  <tbody>\n",
       "    <tr>\n",
       "      <th>0</th>\n",
       "      <td>Shift Manager</td>\n",
       "      <td>&lt;div id=\"jobDescriptionText\" class=\"jobsearch-...</td>\n",
       "      <td>Mission Hills</td>\n",
       "      <td>CA</td>\n",
       "      <td>United States</td>\n",
       "      <td>Del Taco LLC</td>\n",
       "    </tr>\n",
       "    <tr>\n",
       "      <th>1</th>\n",
       "      <td>Operations Support Manager</td>\n",
       "      <td>&lt;div id=\"jobDescriptionText\" class=\"jobsearch-...</td>\n",
       "      <td>Atlanta</td>\n",
       "      <td>GA</td>\n",
       "      <td>United States</td>\n",
       "      <td>FOCUS Brands</td>\n",
       "    </tr>\n",
       "    <tr>\n",
       "      <th>2</th>\n",
       "      <td>Senior Product Manager - Data</td>\n",
       "      <td>&lt;div id=\"jobDescriptionText\" class=\"jobsearch-...</td>\n",
       "      <td>Chicago</td>\n",
       "      <td>IL</td>\n",
       "      <td>United States</td>\n",
       "      <td>Vibes</td>\n",
       "    </tr>\n",
       "    <tr>\n",
       "      <th>3</th>\n",
       "      <td>Part-Time Office Concierge</td>\n",
       "      <td>&lt;div id=\"jobDescriptionText\" class=\"jobsearch-...</td>\n",
       "      <td>Festus</td>\n",
       "      <td>MO</td>\n",
       "      <td>United States</td>\n",
       "      <td>Coldwell Banker Real Estate LLC</td>\n",
       "    </tr>\n",
       "    <tr>\n",
       "      <th>4</th>\n",
       "      <td>Print &amp; Marketing Associate</td>\n",
       "      <td>&lt;div id=\"jobDescriptionText\" class=\"jobsearch-...</td>\n",
       "      <td>Cedar Rapids</td>\n",
       "      <td>IA</td>\n",
       "      <td>United States</td>\n",
       "      <td>Staples Stores</td>\n",
       "    </tr>\n",
       "  </tbody>\n",
       "</table>\n",
       "</div>"
      ],
      "text/plain": [
       "                       Job Title  \\\n",
       "0                  Shift Manager   \n",
       "1     Operations Support Manager   \n",
       "2  Senior Product Manager - Data   \n",
       "3     Part-Time Office Concierge   \n",
       "4    Print & Marketing Associate   \n",
       "\n",
       "                                     Job Description           City State  \\\n",
       "0  <div id=\"jobDescriptionText\" class=\"jobsearch-...  Mission Hills    CA   \n",
       "1  <div id=\"jobDescriptionText\" class=\"jobsearch-...        Atlanta    GA   \n",
       "2  <div id=\"jobDescriptionText\" class=\"jobsearch-...        Chicago    IL   \n",
       "3  <div id=\"jobDescriptionText\" class=\"jobsearch-...         Festus    MO   \n",
       "4  <div id=\"jobDescriptionText\" class=\"jobsearch-...   Cedar Rapids    IA   \n",
       "\n",
       "         Country                     Company Name  \n",
       "0  United States                     Del Taco LLC  \n",
       "1  United States                     FOCUS Brands  \n",
       "2  United States                            Vibes  \n",
       "3  United States  Coldwell Banker Real Estate LLC  \n",
       "4  United States                   Staples Stores  "
      ]
     },
     "execution_count": 8,
     "metadata": {},
     "output_type": "execute_result"
    }
   ],
   "source": [
    "data.head()"
   ]
  },
  {
   "cell_type": "code",
   "execution_count": 9,
   "id": "b6126034-74bb-4e31-b80e-5c5f5ac5ec96",
   "metadata": {},
   "outputs": [
    {
     "name": "stdout",
     "output_type": "stream",
     "text": [
      "<div id=\"jobDescriptionText\" class=\"jobsearch-jobDescriptionText\">\n",
      "<div>\n",
      "<div>\n",
      "<div>As a Cyber Risk Senior Consultant for Deloitte's Financial Risk Services, you’ll work with our diverse teams of leading professionals to help design and implement solutions to some of today’s toughest cybersecurity challenges so they can achieve business growth and manage risk. You’ll build on your foundations in Information Technology and Business to design and implement business-aligned cyber risk management programs, processes, and systems that help clients focus their investments on key information technology risks.<br>\n",
      "</div>\n",
      "<div></div>\n",
      "<div>In your role as a Senior Consultant, you will support a team in delivering projects across a variety of cyber topics, including such examples as:\n",
      "</div>\n",
      "<ul>\n",
      "<li>Understand how business functions operate and how industry trends impact a client’s business</li>\n",
      "<li>Assessing or developing an organization’s cyber risk strategy and posture, as it relates to data risk, cyber risk management, cyber risk frameworks and policies, and/or cyber risk measures, methods, and reporting</li>\n",
      "<li>Strategically drive the development and execution of risk assessments and mitigation plans to enhance the client’s ability to identify, evaluate, prioritize and mitigate risks</li>\n",
      "<li>Implement risk management solutions aligned to the client’s vision and strategic priorities</li>\n",
      "<li>Deliver key messages with clarity, confidence, and poise to instill confidence in clients</li>\n",
      "<li>Drive development and implementation of cyber strategies targeted on key client’s risk and business needs, and enhanced by leading practices</li>\n",
      "<li>Develop impactful reports and presentations that support the achievement of engagement goals and objectives</li>\n",
      "<li>Execute large scale cyber risk and security engagements across global customers by developing security strategies based on risk management and compliance requirements while maintaining metrics on milestones, customer satisfactions and profitability.</li>\n",
      "<li>Understand technical and business requirements to develop tactical and strategic roadmaps to address and implement Secure SDLC controls (data privacy, SAST, DAST, etc).</li>\n",
      "<li>Drive and develop the DevSecOps offerings portfolio for business transformations and implementations.</li>\n",
      "<li>Utilize advanced technology expertise in Secure SDLC, Product Management, Information Security, and DevOps to drive engagements in the space of business process transformation, re-platforming, Enterprise Architecture and IT solution implementations.\n",
      "</li>\n",
      "<li>Integrate security control design, implementation, and testing into the DevOps offerings.</li>\n",
      "<li>Envision upcoming security trends and innovate on developing solutions to anticipate future requirements and expectations from clients.</li>\n",
      "<li>Advise clients in global trends relating to Cyber Risk requirements and work collaboratively with them to enhance capabilities.\n",
      "</li>\n",
      "<li>Contribute to Deloitte’s thought leadership in client organizations and the external market place.</li>\n",
      "<li>Work includes project management, offering operations/development, sales, innovation, eminence building and people development.</li>\n",
      "</ul>\n",
      "</div>\n",
      "<div></div>\n",
      "<div>\n",
      "<div><b>The Team</b></div>\n",
      "<div>At Deloitte we view cyber risk as primarily a business challenge. Understanding that even the most well-secured clients will occasionally experience serious cyber incidents, we developed the <i>Secure.Vigilant.Resilient.™</i> framework to help them take a more comprehensive approach so they can thrive, even in the face of escalating threats. It takes advanced technologies to address cyber risk, but it also takes strong threat awareness and analytic capabilities, solid preparedness to respond to a crisis, and strong leadership and governance processes to keep things focused on what really matters to the organization. Deloitte stands out as one of the few firms that can offer our clients the full range of capabilities needed to build comprehensive cyber risk programs. Every year we serve hundreds of clients across every major industry sector. Our Cyber Risk Services teams work at both the C-suite level, and the technology operations level. This broad vantage point enables us to offer the most informed, innovative advisory services. By joining our team, you’ll be part of developing the future state of cyber risk solutions. Learn more about our Cyber Risk Services practice.</div>\n",
      "</div>\n",
      "</div>\n",
      "<div></div>\n",
      "</div>\n"
     ]
    }
   ],
   "source": [
    "## To view any Job description completly\n",
    "text_document = data.loc[5, 'Job Description']\n",
    "print(text_document)"
   ]
  },
  {
   "cell_type": "markdown",
   "id": "c5d258e4-cc74-44a3-8a93-b4fb69f7c0b7",
   "metadata": {
    "jp-MarkdownHeadingCollapsed": true
   },
   "source": [
    "# Function Declaration"
   ]
  },
  {
   "cell_type": "code",
   "execution_count": 10,
   "id": "7450476f-fdee-409b-884f-8bd193b332c7",
   "metadata": {},
   "outputs": [],
   "source": [
    "from bs4 import BeautifulSoup"
   ]
  },
  {
   "cell_type": "code",
   "execution_count": 11,
   "id": "39018b2e-082c-449c-b36d-1598fc835070",
   "metadata": {},
   "outputs": [
    {
     "data": {
      "text/plain": [
       "'\\ndef clean_html(html_content):\\n    \"\"\"Clean HTML content using BeautifulSoup\"\"\"\\n    soup = BeautifulSoup(html_content, \\'html.parser\\')\\n    # Remove any script and style tags\\n    for script in soup([\"script\", \"style\"]):\\n        script.extract()\\n    # Get text content\\n    cleaned_text = soup.get_text(separator=\\' \\')\\n    return cleaned_text\\n'"
      ]
     },
     "execution_count": 11,
     "metadata": {},
     "output_type": "execute_result"
    }
   ],
   "source": [
    "## Code to pull data under all the HTML tags\n",
    "'''\n",
    "def clean_html(html_content):\n",
    "    \"\"\"Clean HTML content using BeautifulSoup\"\"\"\n",
    "    soup = BeautifulSoup(html_content, 'html.parser')\n",
    "    # Remove any script and style tags\n",
    "    for script in soup([\"script\", \"style\"]):\n",
    "        script.extract()\n",
    "    # Get text content\n",
    "    cleaned_text = soup.get_text(separator=' ')\n",
    "    return cleaned_text\n",
    "'''"
   ]
  },
  {
   "cell_type": "code",
   "execution_count": 12,
   "id": "f449a6b7-c5ba-4465-98a8-fc596ca9f9e9",
   "metadata": {},
   "outputs": [],
   "source": [
    "## Most of the useful content is under li tags, so only pulling li tags\n",
    "def clean_html(html_content):\n",
    "    soup = BeautifulSoup(html_content, 'html.parser')\n",
    "    li_texts = [li.get_text(strip=True) for li in soup.find_all('li')]\n",
    "    return '. '.join(li_texts)"
   ]
  },
  {
   "cell_type": "code",
   "execution_count": 12,
   "id": "f7489315-1aba-4294-a671-e6831311e8d9",
   "metadata": {},
   "outputs": [],
   "source": [
    "#pd.set_option('display.max_rows', None)"
   ]
  },
  {
   "cell_type": "code",
   "execution_count": 13,
   "id": "95bb55b0-df63-4f96-a584-0dc0e02be3e3",
   "metadata": {},
   "outputs": [],
   "source": [
    "import re"
   ]
  },
  {
   "cell_type": "code",
   "execution_count": 16,
   "id": "aed802ca-4324-46d3-96fa-a18727124e5a",
   "metadata": {},
   "outputs": [
    {
     "name": "stderr",
     "output_type": "stream",
     "text": [
      "[nltk_data] Downloading package stopwords to\n",
      "[nltk_data]     /Users/diegosabajo/nltk_data...\n",
      "[nltk_data]   Unzipping corpora/stopwords.zip.\n"
     ]
    }
   ],
   "source": [
    "## Remove Stop Words\n",
    "import nltk\n",
    "from nltk.corpus import stopwords\n",
    "nltk.download('stopwords')\n",
    "stop = set(stopwords.words('english'))"
   ]
  },
  {
   "cell_type": "code",
   "execution_count": 17,
   "id": "570cbec3-44f7-494a-a711-22e250ff8c41",
   "metadata": {},
   "outputs": [],
   "source": [
    "# We do not want to remove \"d\",\"s\" etc from words\n",
    "stop = set(word for word in stop if len(word) > 1)"
   ]
  },
  {
   "cell_type": "code",
   "execution_count": 18,
   "id": "ad862f5b-6e4f-483b-8491-d02b4364112f",
   "metadata": {},
   "outputs": [],
   "source": [
    "# Additional stopwords\n",
    "extra_list = [\"let\", \"may\", \"might\", \"must\", \"need\", \"you'll\",\"you’ll\"]\n",
    "stop = stopwords.words(\"english\")\n",
    "stop.extend(extra_list)"
   ]
  },
  {
   "cell_type": "code",
   "execution_count": 19,
   "id": "c58efaae-40d1-45a1-ac90-a982ac312754",
   "metadata": {},
   "outputs": [],
   "source": [
    "## Function to remove Stop Words\n",
    "def rem_en(input_txt):\n",
    "    words = input_txt.lower().split()\n",
    "    noise_free_words = [word for word in words if word not in stop] \n",
    "    noise_free_text = \" \".join(noise_free_words) \n",
    "    return noise_free_text"
   ]
  },
  {
   "cell_type": "code",
   "execution_count": 20,
   "id": "22eacd26-a662-4d79-ae47-b46530165a67",
   "metadata": {},
   "outputs": [
    {
     "name": "stderr",
     "output_type": "stream",
     "text": [
      "[nltk_data] Downloading package averaged_perceptron_tagger to\n",
      "[nltk_data]     /Users/diegosabajo/nltk_data...\n",
      "[nltk_data]   Unzipping taggers/averaged_perceptron_tagger.zip.\n",
      "[nltk_data] Downloading package wordnet to\n",
      "[nltk_data]     /Users/diegosabajo/nltk_data...\n",
      "[nltk_data] Downloading package punkt to\n",
      "[nltk_data]     /Users/diegosabajo/nltk_data...\n",
      "[nltk_data]   Unzipping tokenizers/punkt.zip.\n",
      "[nltk_data] Downloading package omw-1.4 to\n",
      "[nltk_data]     /Users/diegosabajo/nltk_data...\n"
     ]
    }
   ],
   "source": [
    "## Function to Tokenize, lemmatize, and perform POS tagging\n",
    "#import pandas as pd\n",
    "from nltk import word_tokenize, pos_tag\n",
    "from nltk.stem import WordNetLemmatizer\n",
    "from nltk.corpus import wordnet\n",
    "#import nltk\n",
    "\n",
    "nltk.download('averaged_perceptron_tagger')\n",
    "nltk.download('wordnet')\n",
    "nltk.download('punkt')\n",
    "nltk.download('omw-1.4')\n",
    "\n",
    "# Function to map NLTK's (Natural Language Toolikt) POS tags to the format that the wordnet lemmatizer can understand\n",
    "# Though wordnet lemmatizer is part of NLTK, but uses different POS tags\n",
    "def get_wordnet_pos(nltk_pos_tag):\n",
    "    if nltk_pos_tag.startswith('J'):\n",
    "        return wordnet.ADJ\n",
    "    elif nltk_pos_tag.startswith('V'):\n",
    "        return wordnet.VERB\n",
    "    elif nltk_pos_tag.startswith('N'):\n",
    "        return wordnet.NOUN\n",
    "    elif nltk_pos_tag.startswith('R'):\n",
    "        return wordnet.ADV\n",
    "    else:\n",
    "        return None\n",
    "\n",
    "# Function to tokenize, perform POS tagging and lemmatize\n",
    "def process_text(text):\n",
    "    lemmatizer = WordNetLemmatizer()\n",
    "    tokens = word_tokenize(text)\n",
    "    tagged_tokens = pos_tag(tokens)\n",
    "    \n",
    "    lemmatized_and_tagged = []\n",
    "    for token, tag in tagged_tokens:\n",
    "        wn_tag = get_wordnet_pos(tag)\n",
    "        if wn_tag is None:\n",
    "            lemma = token\n",
    "        else:\n",
    "            lemma = lemmatizer.lemmatize(token, wn_tag)\n",
    "        lemmatized_and_tagged.append((lemma, tag))\n",
    "    \n",
    "    return lemmatized_and_tagged"
   ]
  },
  {
   "cell_type": "code",
   "execution_count": 21,
   "id": "be4b8c51-c458-4154-a5da-780415af1bfd",
   "metadata": {},
   "outputs": [
    {
     "data": {
      "text/plain": [
       "\"\\n## For Normalization\\n##from nltk.stem import WordNetLemmatizer ## For Normalization\\n##from nltk.tokenize import word_tokenize ## For Tokenization\\n\\ndef lemmatize_text(text):\\n    lemmatizer = WordNetLemmatizer()\\n    lemmatized_text = ' '.join([lemmatizer.lemmatize(word) for word in word_tokenize(text)])\\n    return lemmatized_text\\n\""
      ]
     },
     "execution_count": 21,
     "metadata": {},
     "output_type": "execute_result"
    }
   ],
   "source": [
    "'''\n",
    "## For Normalization\n",
    "##from nltk.stem import WordNetLemmatizer ## For Normalization\n",
    "##from nltk.tokenize import word_tokenize ## For Tokenization\n",
    "\n",
    "def lemmatize_text(text):\n",
    "    lemmatizer = WordNetLemmatizer()\n",
    "    lemmatized_text = ' '.join([lemmatizer.lemmatize(word) for word in word_tokenize(text)])\n",
    "    return lemmatized_text\n",
    "'''"
   ]
  },
  {
   "cell_type": "code",
   "execution_count": 21,
   "id": "6e9b1838-15ba-4f67-82d8-7df144065d5f",
   "metadata": {},
   "outputs": [],
   "source": [
    "## For POS\n",
    "#from nltk import pos_tag ## For POS"
   ]
  },
  {
   "cell_type": "code",
   "execution_count": 22,
   "id": "7ec73e7d-30d7-43b3-a1e8-07efcff6d449",
   "metadata": {},
   "outputs": [],
   "source": [
    "#nltk.download('punkt') # This is for Tokenization\n",
    "#nltk.download('averaged_perceptron_tagger') # This is for POS"
   ]
  },
  {
   "cell_type": "code",
   "execution_count": 24,
   "id": "374ed278-4d93-482d-b941-a97f3ec3268e",
   "metadata": {},
   "outputs": [],
   "source": [
    "def clean_job_description(description):\n",
    "\n",
    "    # To clean HTML format and only pull line items\n",
    "    description = description.apply(clean_html)\n",
    "     \n",
    "    # Remove Stopwprds\n",
    "    description = description.apply(lambda s: ' '.join(re.sub(\"(w+://S+)\", \" \", s).split()))\n",
    "    \n",
    "    # Convert to lowercase\n",
    "    description = description.str.lower()\n",
    "    \n",
    "    # Call rem_en function to remove Stopwords\n",
    "    description = description.apply(rem_en)\n",
    "    \n",
    "    # Remove \"'s\" or \"’s\" at the end of words\n",
    "    description = description.str.replace(r\"'s\\b|’s\\b\", \"\", regex=True)\n",
    "    \n",
    "    # Remove non-alphabetic characters\n",
    "    description = description.str.replace(r'[^a-zA-Z\\s]', ' ', regex=True)\n",
    "    \n",
    "    # Remove single characters\n",
    "    description = description.str.replace(r'\\b\\w\\b', '', regex=True)\n",
    "    \n",
    "    # Remove extra whitespaces\n",
    "    description = description.str.replace(r'\\s+', ' ', regex=True).str.strip()\n",
    "\n",
    "    # Normalization using Lemmatization, Tokenization & POS\n",
    "    description = description.apply(process_text)\n",
    "    \n",
    "    return description"
   ]
  },
  {
   "cell_type": "code",
   "execution_count": 25,
   "id": "0b2c90d8-28d3-4e9c-9a59-d9ef4d39a1f3",
   "metadata": {},
   "outputs": [
    {
     "ename": "KeyboardInterrupt",
     "evalue": "",
     "output_type": "error",
     "traceback": [
      "\u001b[0;31m---------------------------------------------------------------------------\u001b[0m",
      "\u001b[0;31mKeyboardInterrupt\u001b[0m                         Traceback (most recent call last)",
      "Cell \u001b[0;32mIn[25], line 1\u001b[0m\n\u001b[0;32m----> 1\u001b[0m data[\u001b[38;5;124m'\u001b[39m\u001b[38;5;124mJob Description POS\u001b[39m\u001b[38;5;124m'\u001b[39m] \u001b[38;5;241m=\u001b[39m \u001b[43mclean_job_description\u001b[49m\u001b[43m(\u001b[49m\u001b[43mdata\u001b[49m\u001b[43m[\u001b[49m\u001b[38;5;124;43m'\u001b[39;49m\u001b[38;5;124;43mJob Description\u001b[39;49m\u001b[38;5;124;43m'\u001b[39;49m\u001b[43m]\u001b[49m\u001b[43m)\u001b[49m\n",
      "Cell \u001b[0;32mIn[24], line 28\u001b[0m, in \u001b[0;36mclean_job_description\u001b[0;34m(description)\u001b[0m\n\u001b[1;32m     25\u001b[0m description \u001b[38;5;241m=\u001b[39m description\u001b[38;5;241m.\u001b[39mstr\u001b[38;5;241m.\u001b[39mreplace(\u001b[38;5;124mr\u001b[39m\u001b[38;5;124m'\u001b[39m\u001b[38;5;124m\\\u001b[39m\u001b[38;5;124ms+\u001b[39m\u001b[38;5;124m'\u001b[39m, \u001b[38;5;124m'\u001b[39m\u001b[38;5;124m \u001b[39m\u001b[38;5;124m'\u001b[39m, regex\u001b[38;5;241m=\u001b[39m\u001b[38;5;28;01mTrue\u001b[39;00m)\u001b[38;5;241m.\u001b[39mstr\u001b[38;5;241m.\u001b[39mstrip()\n\u001b[1;32m     27\u001b[0m \u001b[38;5;66;03m# Normalization using Lemmatization, Tokenization & POS\u001b[39;00m\n\u001b[0;32m---> 28\u001b[0m description \u001b[38;5;241m=\u001b[39m \u001b[43mdescription\u001b[49m\u001b[38;5;241;43m.\u001b[39;49m\u001b[43mapply\u001b[49m\u001b[43m(\u001b[49m\u001b[43mprocess_text\u001b[49m\u001b[43m)\u001b[49m\n\u001b[1;32m     30\u001b[0m \u001b[38;5;28;01mreturn\u001b[39;00m description\n",
      "File \u001b[0;32m~/Documents/Projects/A.I./Prototype/Resume Screener/.venv/lib/python3.11/site-packages/pandas/core/series.py:4915\u001b[0m, in \u001b[0;36mSeries.apply\u001b[0;34m(self, func, convert_dtype, args, by_row, **kwargs)\u001b[0m\n\u001b[1;32m   4780\u001b[0m \u001b[38;5;28;01mdef\u001b[39;00m \u001b[38;5;21mapply\u001b[39m(\n\u001b[1;32m   4781\u001b[0m     \u001b[38;5;28mself\u001b[39m,\n\u001b[1;32m   4782\u001b[0m     func: AggFuncType,\n\u001b[0;32m   (...)\u001b[0m\n\u001b[1;32m   4787\u001b[0m     \u001b[38;5;241m*\u001b[39m\u001b[38;5;241m*\u001b[39mkwargs,\n\u001b[1;32m   4788\u001b[0m ) \u001b[38;5;241m-\u001b[39m\u001b[38;5;241m>\u001b[39m DataFrame \u001b[38;5;241m|\u001b[39m Series:\n\u001b[1;32m   4789\u001b[0m \u001b[38;5;250m    \u001b[39m\u001b[38;5;124;03m\"\"\"\u001b[39;00m\n\u001b[1;32m   4790\u001b[0m \u001b[38;5;124;03m    Invoke function on values of Series.\u001b[39;00m\n\u001b[1;32m   4791\u001b[0m \n\u001b[0;32m   (...)\u001b[0m\n\u001b[1;32m   4906\u001b[0m \u001b[38;5;124;03m    dtype: float64\u001b[39;00m\n\u001b[1;32m   4907\u001b[0m \u001b[38;5;124;03m    \"\"\"\u001b[39;00m\n\u001b[1;32m   4908\u001b[0m     \u001b[38;5;28;01mreturn\u001b[39;00m \u001b[43mSeriesApply\u001b[49m\u001b[43m(\u001b[49m\n\u001b[1;32m   4909\u001b[0m \u001b[43m        \u001b[49m\u001b[38;5;28;43mself\u001b[39;49m\u001b[43m,\u001b[49m\n\u001b[1;32m   4910\u001b[0m \u001b[43m        \u001b[49m\u001b[43mfunc\u001b[49m\u001b[43m,\u001b[49m\n\u001b[1;32m   4911\u001b[0m \u001b[43m        \u001b[49m\u001b[43mconvert_dtype\u001b[49m\u001b[38;5;241;43m=\u001b[39;49m\u001b[43mconvert_dtype\u001b[49m\u001b[43m,\u001b[49m\n\u001b[1;32m   4912\u001b[0m \u001b[43m        \u001b[49m\u001b[43mby_row\u001b[49m\u001b[38;5;241;43m=\u001b[39;49m\u001b[43mby_row\u001b[49m\u001b[43m,\u001b[49m\n\u001b[1;32m   4913\u001b[0m \u001b[43m        \u001b[49m\u001b[43margs\u001b[49m\u001b[38;5;241;43m=\u001b[39;49m\u001b[43margs\u001b[49m\u001b[43m,\u001b[49m\n\u001b[1;32m   4914\u001b[0m \u001b[43m        \u001b[49m\u001b[43mkwargs\u001b[49m\u001b[38;5;241;43m=\u001b[39;49m\u001b[43mkwargs\u001b[49m\u001b[43m,\u001b[49m\n\u001b[0;32m-> 4915\u001b[0m \u001b[43m    \u001b[49m\u001b[43m)\u001b[49m\u001b[38;5;241;43m.\u001b[39;49m\u001b[43mapply\u001b[49m\u001b[43m(\u001b[49m\u001b[43m)\u001b[49m\n",
      "File \u001b[0;32m~/Documents/Projects/A.I./Prototype/Resume Screener/.venv/lib/python3.11/site-packages/pandas/core/apply.py:1427\u001b[0m, in \u001b[0;36mSeriesApply.apply\u001b[0;34m(self)\u001b[0m\n\u001b[1;32m   1424\u001b[0m     \u001b[38;5;28;01mreturn\u001b[39;00m \u001b[38;5;28mself\u001b[39m\u001b[38;5;241m.\u001b[39mapply_compat()\n\u001b[1;32m   1426\u001b[0m \u001b[38;5;66;03m# self.func is Callable\u001b[39;00m\n\u001b[0;32m-> 1427\u001b[0m \u001b[38;5;28;01mreturn\u001b[39;00m \u001b[38;5;28;43mself\u001b[39;49m\u001b[38;5;241;43m.\u001b[39;49m\u001b[43mapply_standard\u001b[49m\u001b[43m(\u001b[49m\u001b[43m)\u001b[49m\n",
      "File \u001b[0;32m~/Documents/Projects/A.I./Prototype/Resume Screener/.venv/lib/python3.11/site-packages/pandas/core/apply.py:1507\u001b[0m, in \u001b[0;36mSeriesApply.apply_standard\u001b[0;34m(self)\u001b[0m\n\u001b[1;32m   1501\u001b[0m \u001b[38;5;66;03m# row-wise access\u001b[39;00m\n\u001b[1;32m   1502\u001b[0m \u001b[38;5;66;03m# apply doesn't have a `na_action` keyword and for backward compat reasons\u001b[39;00m\n\u001b[1;32m   1503\u001b[0m \u001b[38;5;66;03m# we need to give `na_action=\"ignore\"` for categorical data.\u001b[39;00m\n\u001b[1;32m   1504\u001b[0m \u001b[38;5;66;03m# TODO: remove the `na_action=\"ignore\"` when that default has been changed in\u001b[39;00m\n\u001b[1;32m   1505\u001b[0m \u001b[38;5;66;03m#  Categorical (GH51645).\u001b[39;00m\n\u001b[1;32m   1506\u001b[0m action \u001b[38;5;241m=\u001b[39m \u001b[38;5;124m\"\u001b[39m\u001b[38;5;124mignore\u001b[39m\u001b[38;5;124m\"\u001b[39m \u001b[38;5;28;01mif\u001b[39;00m \u001b[38;5;28misinstance\u001b[39m(obj\u001b[38;5;241m.\u001b[39mdtype, CategoricalDtype) \u001b[38;5;28;01melse\u001b[39;00m \u001b[38;5;28;01mNone\u001b[39;00m\n\u001b[0;32m-> 1507\u001b[0m mapped \u001b[38;5;241m=\u001b[39m \u001b[43mobj\u001b[49m\u001b[38;5;241;43m.\u001b[39;49m\u001b[43m_map_values\u001b[49m\u001b[43m(\u001b[49m\n\u001b[1;32m   1508\u001b[0m \u001b[43m    \u001b[49m\u001b[43mmapper\u001b[49m\u001b[38;5;241;43m=\u001b[39;49m\u001b[43mcurried\u001b[49m\u001b[43m,\u001b[49m\u001b[43m \u001b[49m\u001b[43mna_action\u001b[49m\u001b[38;5;241;43m=\u001b[39;49m\u001b[43maction\u001b[49m\u001b[43m,\u001b[49m\u001b[43m \u001b[49m\u001b[43mconvert\u001b[49m\u001b[38;5;241;43m=\u001b[39;49m\u001b[38;5;28;43mself\u001b[39;49m\u001b[38;5;241;43m.\u001b[39;49m\u001b[43mconvert_dtype\u001b[49m\n\u001b[1;32m   1509\u001b[0m \u001b[43m\u001b[49m\u001b[43m)\u001b[49m\n\u001b[1;32m   1511\u001b[0m \u001b[38;5;28;01mif\u001b[39;00m \u001b[38;5;28mlen\u001b[39m(mapped) \u001b[38;5;129;01mand\u001b[39;00m \u001b[38;5;28misinstance\u001b[39m(mapped[\u001b[38;5;241m0\u001b[39m], ABCSeries):\n\u001b[1;32m   1512\u001b[0m     \u001b[38;5;66;03m# GH#43986 Need to do list(mapped) in order to get treated as nested\u001b[39;00m\n\u001b[1;32m   1513\u001b[0m     \u001b[38;5;66;03m#  See also GH#25959 regarding EA support\u001b[39;00m\n\u001b[1;32m   1514\u001b[0m     \u001b[38;5;28;01mreturn\u001b[39;00m obj\u001b[38;5;241m.\u001b[39m_constructor_expanddim(\u001b[38;5;28mlist\u001b[39m(mapped), index\u001b[38;5;241m=\u001b[39mobj\u001b[38;5;241m.\u001b[39mindex)\n",
      "File \u001b[0;32m~/Documents/Projects/A.I./Prototype/Resume Screener/.venv/lib/python3.11/site-packages/pandas/core/base.py:921\u001b[0m, in \u001b[0;36mIndexOpsMixin._map_values\u001b[0;34m(self, mapper, na_action, convert)\u001b[0m\n\u001b[1;32m    918\u001b[0m \u001b[38;5;28;01mif\u001b[39;00m \u001b[38;5;28misinstance\u001b[39m(arr, ExtensionArray):\n\u001b[1;32m    919\u001b[0m     \u001b[38;5;28;01mreturn\u001b[39;00m arr\u001b[38;5;241m.\u001b[39mmap(mapper, na_action\u001b[38;5;241m=\u001b[39mna_action)\n\u001b[0;32m--> 921\u001b[0m \u001b[38;5;28;01mreturn\u001b[39;00m \u001b[43malgorithms\u001b[49m\u001b[38;5;241;43m.\u001b[39;49m\u001b[43mmap_array\u001b[49m\u001b[43m(\u001b[49m\u001b[43marr\u001b[49m\u001b[43m,\u001b[49m\u001b[43m \u001b[49m\u001b[43mmapper\u001b[49m\u001b[43m,\u001b[49m\u001b[43m \u001b[49m\u001b[43mna_action\u001b[49m\u001b[38;5;241;43m=\u001b[39;49m\u001b[43mna_action\u001b[49m\u001b[43m,\u001b[49m\u001b[43m \u001b[49m\u001b[43mconvert\u001b[49m\u001b[38;5;241;43m=\u001b[39;49m\u001b[43mconvert\u001b[49m\u001b[43m)\u001b[49m\n",
      "File \u001b[0;32m~/Documents/Projects/A.I./Prototype/Resume Screener/.venv/lib/python3.11/site-packages/pandas/core/algorithms.py:1743\u001b[0m, in \u001b[0;36mmap_array\u001b[0;34m(arr, mapper, na_action, convert)\u001b[0m\n\u001b[1;32m   1741\u001b[0m values \u001b[38;5;241m=\u001b[39m arr\u001b[38;5;241m.\u001b[39mastype(\u001b[38;5;28mobject\u001b[39m, copy\u001b[38;5;241m=\u001b[39m\u001b[38;5;28;01mFalse\u001b[39;00m)\n\u001b[1;32m   1742\u001b[0m \u001b[38;5;28;01mif\u001b[39;00m na_action \u001b[38;5;129;01mis\u001b[39;00m \u001b[38;5;28;01mNone\u001b[39;00m:\n\u001b[0;32m-> 1743\u001b[0m     \u001b[38;5;28;01mreturn\u001b[39;00m \u001b[43mlib\u001b[49m\u001b[38;5;241;43m.\u001b[39;49m\u001b[43mmap_infer\u001b[49m\u001b[43m(\u001b[49m\u001b[43mvalues\u001b[49m\u001b[43m,\u001b[49m\u001b[43m \u001b[49m\u001b[43mmapper\u001b[49m\u001b[43m,\u001b[49m\u001b[43m \u001b[49m\u001b[43mconvert\u001b[49m\u001b[38;5;241;43m=\u001b[39;49m\u001b[43mconvert\u001b[49m\u001b[43m)\u001b[49m\n\u001b[1;32m   1744\u001b[0m \u001b[38;5;28;01melse\u001b[39;00m:\n\u001b[1;32m   1745\u001b[0m     \u001b[38;5;28;01mreturn\u001b[39;00m lib\u001b[38;5;241m.\u001b[39mmap_infer_mask(\n\u001b[1;32m   1746\u001b[0m         values, mapper, mask\u001b[38;5;241m=\u001b[39misna(values)\u001b[38;5;241m.\u001b[39mview(np\u001b[38;5;241m.\u001b[39muint8), convert\u001b[38;5;241m=\u001b[39mconvert\n\u001b[1;32m   1747\u001b[0m     )\n",
      "File \u001b[0;32mlib.pyx:2972\u001b[0m, in \u001b[0;36mpandas._libs.lib.map_infer\u001b[0;34m()\u001b[0m\n",
      "Cell \u001b[0;32mIn[20], line 31\u001b[0m, in \u001b[0;36mprocess_text\u001b[0;34m(text)\u001b[0m\n\u001b[1;32m     29\u001b[0m lemmatizer \u001b[38;5;241m=\u001b[39m WordNetLemmatizer()\n\u001b[1;32m     30\u001b[0m tokens \u001b[38;5;241m=\u001b[39m word_tokenize(text)\n\u001b[0;32m---> 31\u001b[0m tagged_tokens \u001b[38;5;241m=\u001b[39m \u001b[43mpos_tag\u001b[49m\u001b[43m(\u001b[49m\u001b[43mtokens\u001b[49m\u001b[43m)\u001b[49m\n\u001b[1;32m     33\u001b[0m lemmatized_and_tagged \u001b[38;5;241m=\u001b[39m []\n\u001b[1;32m     34\u001b[0m \u001b[38;5;28;01mfor\u001b[39;00m token, tag \u001b[38;5;129;01min\u001b[39;00m tagged_tokens:\n",
      "File \u001b[0;32m~/Documents/Projects/A.I./Prototype/Resume Screener/.venv/lib/python3.11/site-packages/nltk/tag/__init__.py:166\u001b[0m, in \u001b[0;36mpos_tag\u001b[0;34m(tokens, tagset, lang)\u001b[0m\n\u001b[1;32m    141\u001b[0m \u001b[38;5;250m\u001b[39m\u001b[38;5;124;03m\"\"\"\u001b[39;00m\n\u001b[1;32m    142\u001b[0m \u001b[38;5;124;03mUse NLTK's currently recommended part of speech tagger to\u001b[39;00m\n\u001b[1;32m    143\u001b[0m \u001b[38;5;124;03mtag the given list of tokens.\u001b[39;00m\n\u001b[0;32m   (...)\u001b[0m\n\u001b[1;32m    163\u001b[0m \u001b[38;5;124;03m:rtype: list(tuple(str, str))\u001b[39;00m\n\u001b[1;32m    164\u001b[0m \u001b[38;5;124;03m\"\"\"\u001b[39;00m\n\u001b[1;32m    165\u001b[0m tagger \u001b[38;5;241m=\u001b[39m _get_tagger(lang)\n\u001b[0;32m--> 166\u001b[0m \u001b[38;5;28;01mreturn\u001b[39;00m \u001b[43m_pos_tag\u001b[49m\u001b[43m(\u001b[49m\u001b[43mtokens\u001b[49m\u001b[43m,\u001b[49m\u001b[43m \u001b[49m\u001b[43mtagset\u001b[49m\u001b[43m,\u001b[49m\u001b[43m \u001b[49m\u001b[43mtagger\u001b[49m\u001b[43m,\u001b[49m\u001b[43m \u001b[49m\u001b[43mlang\u001b[49m\u001b[43m)\u001b[49m\n",
      "File \u001b[0;32m~/Documents/Projects/A.I./Prototype/Resume Screener/.venv/lib/python3.11/site-packages/nltk/tag/__init__.py:123\u001b[0m, in \u001b[0;36m_pos_tag\u001b[0;34m(tokens, tagset, tagger, lang)\u001b[0m\n\u001b[1;32m    120\u001b[0m     \u001b[38;5;28;01mraise\u001b[39;00m \u001b[38;5;167;01mTypeError\u001b[39;00m(\u001b[38;5;124m\"\u001b[39m\u001b[38;5;124mtokens: expected a list of strings, got a string\u001b[39m\u001b[38;5;124m\"\u001b[39m)\n\u001b[1;32m    122\u001b[0m \u001b[38;5;28;01melse\u001b[39;00m:\n\u001b[0;32m--> 123\u001b[0m     tagged_tokens \u001b[38;5;241m=\u001b[39m \u001b[43mtagger\u001b[49m\u001b[38;5;241;43m.\u001b[39;49m\u001b[43mtag\u001b[49m\u001b[43m(\u001b[49m\u001b[43mtokens\u001b[49m\u001b[43m)\u001b[49m\n\u001b[1;32m    124\u001b[0m     \u001b[38;5;28;01mif\u001b[39;00m tagset:  \u001b[38;5;66;03m# Maps to the specified tagset.\u001b[39;00m\n\u001b[1;32m    125\u001b[0m         \u001b[38;5;28;01mif\u001b[39;00m lang \u001b[38;5;241m==\u001b[39m \u001b[38;5;124m\"\u001b[39m\u001b[38;5;124meng\u001b[39m\u001b[38;5;124m\"\u001b[39m:\n",
      "File \u001b[0;32m~/Documents/Projects/A.I./Prototype/Resume Screener/.venv/lib/python3.11/site-packages/nltk/tag/perceptron.py:187\u001b[0m, in \u001b[0;36mPerceptronTagger.tag\u001b[0;34m(self, tokens, return_conf, use_tagdict)\u001b[0m\n\u001b[1;32m    185\u001b[0m \u001b[38;5;28;01mif\u001b[39;00m \u001b[38;5;129;01mnot\u001b[39;00m tag:\n\u001b[1;32m    186\u001b[0m     features \u001b[38;5;241m=\u001b[39m \u001b[38;5;28mself\u001b[39m\u001b[38;5;241m.\u001b[39m_get_features(i, word, context, prev, prev2)\n\u001b[0;32m--> 187\u001b[0m     tag, conf \u001b[38;5;241m=\u001b[39m \u001b[38;5;28;43mself\u001b[39;49m\u001b[38;5;241;43m.\u001b[39;49m\u001b[43mmodel\u001b[49m\u001b[38;5;241;43m.\u001b[39;49m\u001b[43mpredict\u001b[49m\u001b[43m(\u001b[49m\u001b[43mfeatures\u001b[49m\u001b[43m,\u001b[49m\u001b[43m \u001b[49m\u001b[43mreturn_conf\u001b[49m\u001b[43m)\u001b[49m\n\u001b[1;32m    188\u001b[0m output\u001b[38;5;241m.\u001b[39mappend((word, tag, conf) \u001b[38;5;28;01mif\u001b[39;00m return_conf \u001b[38;5;241m==\u001b[39m \u001b[38;5;28;01mTrue\u001b[39;00m \u001b[38;5;28;01melse\u001b[39;00m (word, tag))\n\u001b[1;32m    190\u001b[0m prev2 \u001b[38;5;241m=\u001b[39m prev\n",
      "File \u001b[0;32m~/Documents/Projects/A.I./Prototype/Resume Screener/.venv/lib/python3.11/site-packages/nltk/tag/perceptron.py:65\u001b[0m, in \u001b[0;36mAveragedPerceptron.predict\u001b[0;34m(self, features, return_conf)\u001b[0m\n\u001b[1;32m     63\u001b[0m         \u001b[38;5;28;01mcontinue\u001b[39;00m\n\u001b[1;32m     64\u001b[0m     weights \u001b[38;5;241m=\u001b[39m \u001b[38;5;28mself\u001b[39m\u001b[38;5;241m.\u001b[39mweights[feat]\n\u001b[0;32m---> 65\u001b[0m     \u001b[38;5;28;01mfor\u001b[39;00m label, weight \u001b[38;5;129;01min\u001b[39;00m weights\u001b[38;5;241m.\u001b[39mitems():\n\u001b[1;32m     66\u001b[0m         scores[label] \u001b[38;5;241m+\u001b[39m\u001b[38;5;241m=\u001b[39m value \u001b[38;5;241m*\u001b[39m weight\n\u001b[1;32m     68\u001b[0m \u001b[38;5;66;03m# Do a secondary alphabetic sort, for stability\u001b[39;00m\n",
      "\u001b[0;31mKeyboardInterrupt\u001b[0m: "
     ]
    }
   ],
   "source": [
    "data['Job Description POS'] = clean_job_description(data['Job Description'])"
   ]
  },
  {
   "cell_type": "code",
   "execution_count": null,
   "id": "61961243-8022-4d96-8115-be7715f7e0ed",
   "metadata": {},
   "outputs": [
    {
     "data": {
      "text/plain": [
       "[('program', 'NN'),\n",
       " ('procedure', 'NN'),\n",
       " ('execution', 'NN'),\n",
       " ('material', 'NN'),\n",
       " ('development', 'NN'),\n",
       " ('use', 'NN'),\n",
       " ('strategic', 'JJ'),\n",
       " ('thinking', 'NN'),\n",
       " ('identify', 'VB'),\n",
       " ('area', 'NNS'),\n",
       " ('improvement', 'NN'),\n",
       " ('within', 'IN'),\n",
       " ('restaurant', 'NN'),\n",
       " ('system', 'NNS'),\n",
       " ('use', 'VBD'),\n",
       " ('home', 'NN'),\n",
       " ('office', 'NN'),\n",
       " ('restaurant', 'NN'),\n",
       " ('operation', 'NNS'),\n",
       " ('develop', 'VBP'),\n",
       " ('test', 'NN'),\n",
       " ('train', 'NN'),\n",
       " ('integrate', 'NN'),\n",
       " ('introduce', 'VB'),\n",
       " ('execute', 'JJ'),\n",
       " ('new', 'JJ'),\n",
       " ('efficient', 'JJ'),\n",
       " ('program', 'NNS'),\n",
       " ('procedure', 'NNS'),\n",
       " ('follow', 'VBG'),\n",
       " ('area', 'NNS'),\n",
       " ('include', 'VBG'),\n",
       " ('limit', 'VBD'),\n",
       " ('to', 'TO'),\n",
       " ('information', 'NN'),\n",
       " ('technology', 'NN'),\n",
       " ('innovation', 'NN'),\n",
       " ('project', 'NNS'),\n",
       " ('initiativessubject', 'VBP'),\n",
       " ('matter', 'JJ'),\n",
       " ('expertise', 'NN'),\n",
       " ('day', 'NN'),\n",
       " ('day', 'NN'),\n",
       " ('system', 'NN'),\n",
       " ('administrationliaison', 'JJ'),\n",
       " ('jamba', 'NN'),\n",
       " ('business', 'NN'),\n",
       " ('team', 'NNS'),\n",
       " ('itrestaurant', 'VBP'),\n",
       " ('operate', 'VBG'),\n",
       " ('system', 'NNS'),\n",
       " ('procedureslto', 'JJ'),\n",
       " ('test', 'JJ'),\n",
       " ('execution', 'NN'),\n",
       " ('process', 'NN'),\n",
       " ('train', 'VBG'),\n",
       " ('guidesmarketing', 'VBG'),\n",
       " ('sale', 'NNS'),\n",
       " ('build', 'VBG'),\n",
       " ('programsaccounting', 'VBG'),\n",
       " ('program', 'NNS'),\n",
       " ('related', 'JJ'),\n",
       " ('technologyhuman', 'JJ'),\n",
       " ('resource', 'NN'),\n",
       " ('program', 'NNS'),\n",
       " ('related', 'JJ'),\n",
       " ('technologydevelopment', 'JJ'),\n",
       " ('analysis', 'NN'),\n",
       " ('kpis', 'NN'),\n",
       " ('relate', 'VBG'),\n",
       " ('restaurant', 'JJ'),\n",
       " ('system', 'NNS'),\n",
       " ('information', 'NN'),\n",
       " ('technology', 'NN'),\n",
       " ('innovation', 'NN'),\n",
       " ('project', 'NNS'),\n",
       " ('initiative', 'NNS'),\n",
       " ('subject', 'JJ'),\n",
       " ('matter', 'JJ'),\n",
       " ('expertise', 'NN'),\n",
       " ('day', 'NN'),\n",
       " ('day', 'NN'),\n",
       " ('system', 'NN'),\n",
       " ('administration', 'NN'),\n",
       " ('liaison', 'NN'),\n",
       " ('jamba', 'NN'),\n",
       " ('business', 'NN'),\n",
       " ('team', 'NNS'),\n",
       " ('it', 'PRP'),\n",
       " ('restaurant', 'JJ'),\n",
       " ('operate', 'VBG'),\n",
       " ('system', 'NNS'),\n",
       " ('procedure', 'NNS'),\n",
       " ('lto', 'JJ'),\n",
       " ('test', 'NN'),\n",
       " ('execution', 'NN'),\n",
       " ('process', 'NN'),\n",
       " ('training', 'NN'),\n",
       " ('guide', 'NNS'),\n",
       " ('market', 'VBG'),\n",
       " ('sale', 'NNS'),\n",
       " ('build', 'VBG'),\n",
       " ('program', 'NNS'),\n",
       " ('account', 'VBG'),\n",
       " ('program', 'NNS'),\n",
       " ('related', 'JJ'),\n",
       " ('technology', 'NN'),\n",
       " ('human', 'JJ'),\n",
       " ('resource', 'NN'),\n",
       " ('program', 'NNS'),\n",
       " ('related', 'JJ'),\n",
       " ('technology', 'NN'),\n",
       " ('development', 'NN'),\n",
       " ('analysis', 'NN'),\n",
       " ('kpis', 'NN'),\n",
       " ('relate', 'VBG'),\n",
       " ('restaurant', 'JJ'),\n",
       " ('system', 'NNS'),\n",
       " ('provide', 'VBP'),\n",
       " ('detailed', 'JJ'),\n",
       " ('reporting', 'NN'),\n",
       " ('analysis', 'NN'),\n",
       " ('operation', 'NNS'),\n",
       " ('team', 'VBP'),\n",
       " ('position', 'NN'),\n",
       " ('responsible', 'JJ'),\n",
       " ('outline', 'VBG'),\n",
       " ('trend', 'NNS'),\n",
       " ('provide', 'VBG'),\n",
       " ('action', 'NN'),\n",
       " ('plan', 'NNS'),\n",
       " ('positively', 'RB'),\n",
       " ('affect', 'VBP'),\n",
       " ('restaurant', 'JJ'),\n",
       " ('operation', 'NNS'),\n",
       " ('organizational', 'JJ'),\n",
       " ('focus', 'NN'),\n",
       " ('area', 'NNS'),\n",
       " ('enhance', 'VBP'),\n",
       " ('communication', 'NN'),\n",
       " ('vehicle', 'NNS'),\n",
       " ('impact', 'VBG'),\n",
       " ('field', 'NN'),\n",
       " ('home', 'NN'),\n",
       " ('office', 'NN'),\n",
       " ('adjust', 'VBP'),\n",
       " ('organizational', 'JJ'),\n",
       " ('culture', 'NN'),\n",
       " ('reflect', 'VBP'),\n",
       " ('effective', 'JJ'),\n",
       " ('operation', 'NNS'),\n",
       " ('organizational', 'JJ'),\n",
       " ('goal', 'NNS'),\n",
       " ('collaborate', 'VBP'),\n",
       " ('communication', 'NN'),\n",
       " ('team', 'NN'),\n",
       " ('help', 'NN'),\n",
       " ('review', 'VB'),\n",
       " ('communication', 'NN'),\n",
       " ('distributed', 'JJ'),\n",
       " ('field', 'NN'),\n",
       " ('operation', 'NNS'),\n",
       " ('weekly', 'JJ'),\n",
       " ('basis', 'NN'),\n",
       " ('incentive', 'NNS'),\n",
       " ('plan', 'VBG'),\n",
       " ('team', 'NN'),\n",
       " ('ipt', 'NN'),\n",
       " ('manage', 'VBZ'),\n",
       " ('lead', 'VBZ'),\n",
       " ('cross', 'NN'),\n",
       " ('functional', 'JJ'),\n",
       " ('team', 'NN'),\n",
       " ('home', 'NN'),\n",
       " ('office', 'NN'),\n",
       " ('task', 'VBD'),\n",
       " ('develop', 'VBG'),\n",
       " ('systematic', 'JJ'),\n",
       " ('standardize', 'VBN'),\n",
       " ('approach', 'NN'),\n",
       " ('toward', 'IN'),\n",
       " ('team', 'JJ'),\n",
       " ('member', 'NN'),\n",
       " ('manager', 'NN'),\n",
       " ('lto', 'NN'),\n",
       " ('base', 'VBN'),\n",
       " ('incentive', 'JJ'),\n",
       " ('program', 'NNS'),\n",
       " ('project', 'VBP'),\n",
       " ('management', 'NN'),\n",
       " ('manage', 'NN'),\n",
       " ('assign', 'VBN'),\n",
       " ('project', 'NNS'),\n",
       " ('completion', 'NN'),\n",
       " ('use', 'VBG'),\n",
       " ('proven', 'JJ'),\n",
       " ('project', 'NN'),\n",
       " ('management', 'NN'),\n",
       " ('technique', 'NNS'),\n",
       " ('plan', 'VBP'),\n",
       " ('initiate', 'JJ'),\n",
       " ('monitor', 'NN'),\n",
       " ('control', 'NN'),\n",
       " ('execute', 'NN'),\n",
       " ('activity', 'NNS'),\n",
       " ('include', 'VBP'),\n",
       " ('cross', 'JJ'),\n",
       " ('functional', 'JJ'),\n",
       " ('partnering', 'NN'),\n",
       " ('team', 'NN'),\n",
       " ('leadership', 'NN'),\n",
       " ('periodic', 'NN'),\n",
       " ('project', 'NN'),\n",
       " ('status', 'NN'),\n",
       " ('report', 'VBG'),\n",
       " ('responsibility', 'NNS'),\n",
       " ('assign', 'VBN'),\n",
       " ('needed', 'JJ'),\n",
       " ('basis', 'NN'),\n",
       " ('support', 'NN'),\n",
       " ('organization', 'NN'),\n",
       " ('objective', 'NNS'),\n",
       " ('goal', 'NNS'),\n",
       " ('strong', 'JJ'),\n",
       " ('communication', 'NN'),\n",
       " ('skill', 'NNS'),\n",
       " ('ability', 'NN'),\n",
       " ('receive', 'VBP'),\n",
       " ('convey', 'NN'),\n",
       " ('information', 'NN'),\n",
       " ('professional', 'JJ'),\n",
       " ('effective', 'JJ'),\n",
       " ('manner', 'NN'),\n",
       " ('competency', 'NN'),\n",
       " ('write', 'VBN'),\n",
       " ('communication', 'NN'),\n",
       " ('ability', 'NN'),\n",
       " ('organize', 'VB'),\n",
       " ('thought', 'NNS'),\n",
       " ('information', 'NN'),\n",
       " ('simple', 'JJ'),\n",
       " ('easy', 'JJ'),\n",
       " ('understand', 'JJ'),\n",
       " ('manner', 'NN'),\n",
       " ('competency', 'NN'),\n",
       " ('plan', 'VBG'),\n",
       " ('organize', 'VBG'),\n",
       " ('prioritize', 'VBG'),\n",
       " ('completion', 'NN'),\n",
       " ('assignment', 'NN'),\n",
       " ('within', 'IN'),\n",
       " ('deadline', 'NNS'),\n",
       " ('competency', 'NN'),\n",
       " ('microsoft', 'JJ'),\n",
       " ('office', 'NN'),\n",
       " ('suite', 'NN'),\n",
       " ('word', 'NN'),\n",
       " ('excel', 'NN'),\n",
       " ('outlook', 'NN'),\n",
       " ('data', 'NNS'),\n",
       " ('analysis', 'NN'),\n",
       " ('skill', 'NNS'),\n",
       " ('good', 'JJ'),\n",
       " ('judgment', 'NN'),\n",
       " ('decision', 'NN'),\n",
       " ('make', 'VBG'),\n",
       " ('skill', 'NNS'),\n",
       " ('ability', 'NN'),\n",
       " ('effectively', 'RB'),\n",
       " ('assess', 'JJ'),\n",
       " ('resolve', 'VB'),\n",
       " ('problem', 'NNS'),\n",
       " ('ability', 'NN'),\n",
       " ('initiative', 'VBP'),\n",
       " ('identify', 'NN'),\n",
       " ('analyze', 'JJ'),\n",
       " ('recommend', 'VBP'),\n",
       " ('way', 'NNS'),\n",
       " ('improve', 'VB'),\n",
       " ('efficiency', 'NN'),\n",
       " ('effectiveness', 'NN'),\n",
       " ('ability', 'NN'),\n",
       " ('work', 'NN'),\n",
       " ('well', 'RB'),\n",
       " ('within', 'IN'),\n",
       " ('well', 'RB'),\n",
       " ('lead', 'JJ'),\n",
       " ('cross', 'NN'),\n",
       " ('functional', 'JJ'),\n",
       " ('team', 'NN'),\n",
       " ('completion', 'NN'),\n",
       " ('project', 'NNS'),\n",
       " ('excellent', 'JJ'),\n",
       " ('knowledge', 'NN'),\n",
       " ('restaurant', 'NN'),\n",
       " ('po', 'NN'),\n",
       " ('back', 'RB'),\n",
       " ('office', 'NN'),\n",
       " ('online', 'NN'),\n",
       " ('order', 'VBG'),\n",
       " ('related', 'JJ'),\n",
       " ('system', 'NNS'),\n",
       " ('ability', 'NN'),\n",
       " ('work', 'NN'),\n",
       " ('independently', 'RB'),\n",
       " ('limited', 'JJ'),\n",
       " ('amount', 'NN'),\n",
       " ('direct', 'JJ'),\n",
       " ('supervision', 'NN'),\n",
       " ('achieve', 'VBP'),\n",
       " ('goal', 'NNS'),\n",
       " ('able', 'JJ'),\n",
       " ('make', 'VBP'),\n",
       " ('logical', 'JJ'),\n",
       " ('inform', 'VBN'),\n",
       " ('decision', 'NNS'),\n",
       " ('large', 'JJ'),\n",
       " ('scale', 'JJ'),\n",
       " ('program', 'NNS'),\n",
       " ('initiative', 'NNS'),\n",
       " ('impact', 'VBG'),\n",
       " ('entire', 'JJ'),\n",
       " ('organization', 'NN'),\n",
       " ('empower', 'VBN'),\n",
       " ('act', 'JJ'),\n",
       " ('authority', 'NN'),\n",
       " ('decision', 'NNS'),\n",
       " ('related', 'JJ'),\n",
       " ('restaurant', 'JJ'),\n",
       " ('system', 'NNS'),\n",
       " ('control', 'NN'),\n",
       " ('spending', 'NN'),\n",
       " ('budget', 'NN'),\n",
       " ('assign', 'VBD'),\n",
       " ('cost', 'NN'),\n",
       " ('center', 'NN'),\n",
       " ('assign', 'VBN'),\n",
       " ('project', 'NNS'),\n",
       " ('flexibility', 'NN'),\n",
       " ('schedule', 'NN'),\n",
       " ('meet', 'NN'),\n",
       " ('need', 'VBZ'),\n",
       " ('role', 'NN'),\n",
       " ('time', 'NNS'),\n",
       " ('support', 'NN'),\n",
       " ('need', 'VBD'),\n",
       " ('beyond', 'IN'),\n",
       " ('traditional', 'JJ'),\n",
       " ('work', 'NN'),\n",
       " ('hour', 'NNS'),\n",
       " ('ability', 'NN'),\n",
       " ('handle', 'VBP'),\n",
       " ('significant', 'JJ'),\n",
       " ('work', 'NN'),\n",
       " ('load', 'NN'),\n",
       " ('excellent', 'JJ'),\n",
       " ('time', 'NN'),\n",
       " ('management', 'NN'),\n",
       " ('skill', 'NNS'),\n",
       " ('number', 'NN'),\n",
       " ('project', 'NNS'),\n",
       " ('timelines', 'VBP'),\n",
       " ('priority', 'NNS'),\n",
       " ('shift', 'VBP'),\n",
       " ('regularly', 'RB'),\n",
       " ('ability', 'NN'),\n",
       " ('work', 'NN'),\n",
       " ('alone', 'RB'),\n",
       " ('well', 'RB'),\n",
       " ('functional', 'JJ'),\n",
       " ('team', 'NNS'),\n",
       " ('take', 'VBP'),\n",
       " ('plan', 'NNS'),\n",
       " ('idea', 'NNS'),\n",
       " ('concept', 'VBP'),\n",
       " ('completion', 'NN'),\n",
       " ('strong', 'JJ'),\n",
       " ('ability', 'NN'),\n",
       " ('effectively', 'RB'),\n",
       " ('handle', 'JJ'),\n",
       " ('external', 'JJ'),\n",
       " ('relationship', 'NNS'),\n",
       " ('vendor', 'NNS'),\n",
       " ('guest', 'NNS'),\n",
       " ('order', 'NN'),\n",
       " ('create', 'VBP'),\n",
       " ('deliver', 'NN'),\n",
       " ('on', 'IN'),\n",
       " ('expectation', 'NNS'),\n",
       " ('protect', 'VBP'),\n",
       " ('brand', 'NN'),\n",
       " ('integrity', 'NN'),\n",
       " ('image', 'NN'),\n",
       " ('regular', 'JJ'),\n",
       " ('interaction', 'NNS'),\n",
       " ('functional', 'JJ'),\n",
       " ('area', 'NNS'),\n",
       " ('within', 'IN'),\n",
       " ('require', 'VBZ'),\n",
       " ('ability', 'NN'),\n",
       " ('comprehend', 'VBP'),\n",
       " ('overall', 'JJ'),\n",
       " ('business', 'NN'),\n",
       " ('need', 'NNS'),\n",
       " ('goal', 'NNS'),\n",
       " ('ability', 'NN'),\n",
       " ('regularly', 'RB'),\n",
       " ('speak', 'JJ'),\n",
       " ('behalf', 'JJ'),\n",
       " ('field', 'NN'),\n",
       " ('operation', 'NNS'),\n",
       " ('maintain', 'VBG'),\n",
       " ('overall', 'JJ'),\n",
       " ('business', 'NN'),\n",
       " ('approach', 'NN'),\n",
       " ('ability', 'NN'),\n",
       " ('handle', 'VBP'),\n",
       " ('confidential', 'JJ'),\n",
       " ('information', 'NN'),\n",
       " ('professionalism', 'NN'),\n",
       " ('maintain', 'VBP'),\n",
       " ('new', 'JJ'),\n",
       " ('exist', 'VBG'),\n",
       " ('vendor', 'NN'),\n",
       " ('relationship', 'NNS'),\n",
       " ('accountability', 'NN'),\n",
       " ('professionalism', 'NN'),\n",
       " ('year', 'NNS'),\n",
       " ('experience', 'NN'),\n",
       " ('operate', 'VBG'),\n",
       " ('part', 'NN'),\n",
       " ('successful', 'JJ'),\n",
       " ('restaurant', 'NN'),\n",
       " ('management', 'NN'),\n",
       " ('team', 'NN'),\n",
       " ('equivalent', 'JJ'),\n",
       " ('operation', 'NNS'),\n",
       " ('leadership', 'NN'),\n",
       " ('scope', 'VBP'),\n",
       " ('ability', 'NN'),\n",
       " ('willingness', 'NN'),\n",
       " ('travel', 'VBP'),\n",
       " ('occasional', 'JJ'),\n",
       " ('overnights', 'NNS'),\n",
       " ('require', 'VBN')]"
      ]
     },
     "execution_count": 25,
     "metadata": {},
     "output_type": "execute_result"
    }
   ],
   "source": [
    "data.loc[1,'Job Description POS']"
   ]
  },
  {
   "cell_type": "markdown",
   "id": "546316be-2159-4366-93f6-28f877f210b5",
   "metadata": {
    "jp-MarkdownHeadingCollapsed": true
   },
   "source": [
    "# Data Science Analysis"
   ]
  },
  {
   "cell_type": "code",
   "execution_count": 22,
   "id": "8447f59e-4001-483f-bb2c-e0ff19a46aa0",
   "metadata": {},
   "outputs": [],
   "source": [
    "String =  'Data Scientist|Data Science|Business Intelligence'"
   ]
  },
  {
   "cell_type": "code",
   "execution_count": 23,
   "id": "c2e98b22-3571-4920-bc74-77896cd8e286",
   "metadata": {},
   "outputs": [
    {
     "ename": "KeyError",
     "evalue": "'Job Description POS'",
     "output_type": "error",
     "traceback": [
      "\u001b[0;31m---------------------------------------------------------------------------\u001b[0m",
      "\u001b[0;31mKeyError\u001b[0m                                  Traceback (most recent call last)",
      "File \u001b[0;32m~/Documents/Projects/A.I./Prototype/Resume Screener/.venv/lib/python3.11/site-packages/pandas/core/indexes/base.py:3805\u001b[0m, in \u001b[0;36mIndex.get_loc\u001b[0;34m(self, key)\u001b[0m\n\u001b[1;32m   3804\u001b[0m \u001b[38;5;28;01mtry\u001b[39;00m:\n\u001b[0;32m-> 3805\u001b[0m     \u001b[38;5;28;01mreturn\u001b[39;00m \u001b[38;5;28;43mself\u001b[39;49m\u001b[38;5;241;43m.\u001b[39;49m\u001b[43m_engine\u001b[49m\u001b[38;5;241;43m.\u001b[39;49m\u001b[43mget_loc\u001b[49m\u001b[43m(\u001b[49m\u001b[43mcasted_key\u001b[49m\u001b[43m)\u001b[49m\n\u001b[1;32m   3806\u001b[0m \u001b[38;5;28;01mexcept\u001b[39;00m \u001b[38;5;167;01mKeyError\u001b[39;00m \u001b[38;5;28;01mas\u001b[39;00m err:\n",
      "File \u001b[0;32mindex.pyx:167\u001b[0m, in \u001b[0;36mpandas._libs.index.IndexEngine.get_loc\u001b[0;34m()\u001b[0m\n",
      "File \u001b[0;32mindex.pyx:196\u001b[0m, in \u001b[0;36mpandas._libs.index.IndexEngine.get_loc\u001b[0;34m()\u001b[0m\n",
      "File \u001b[0;32mpandas/_libs/hashtable_class_helper.pxi:7081\u001b[0m, in \u001b[0;36mpandas._libs.hashtable.PyObjectHashTable.get_item\u001b[0;34m()\u001b[0m\n",
      "File \u001b[0;32mpandas/_libs/hashtable_class_helper.pxi:7089\u001b[0m, in \u001b[0;36mpandas._libs.hashtable.PyObjectHashTable.get_item\u001b[0;34m()\u001b[0m\n",
      "\u001b[0;31mKeyError\u001b[0m: 'Job Description POS'",
      "\nThe above exception was the direct cause of the following exception:\n",
      "\u001b[0;31mKeyError\u001b[0m                                  Traceback (most recent call last)",
      "Cell \u001b[0;32mIn[23], line 1\u001b[0m\n\u001b[0;32m----> 1\u001b[0m filtered_data \u001b[38;5;241m=\u001b[39m \u001b[43mdata\u001b[49m\u001b[38;5;241;43m.\u001b[39;49m\u001b[43mloc\u001b[49m\u001b[43m[\u001b[49m\u001b[43mdata\u001b[49m\u001b[43m[\u001b[49m\u001b[38;5;124;43m'\u001b[39;49m\u001b[38;5;124;43mJob Title\u001b[39;49m\u001b[38;5;124;43m'\u001b[39;49m\u001b[43m]\u001b[49m\u001b[38;5;241;43m.\u001b[39;49m\u001b[43mstr\u001b[49m\u001b[38;5;241;43m.\u001b[39;49m\u001b[43mcontains\u001b[49m\u001b[43m(\u001b[49m\u001b[43mString\u001b[49m\u001b[43m,\u001b[49m\u001b[43m \u001b[49m\u001b[43mcase\u001b[49m\u001b[38;5;241;43m=\u001b[39;49m\u001b[38;5;28;43;01mFalse\u001b[39;49;00m\u001b[43m,\u001b[49m\u001b[43m \u001b[49m\u001b[43mna\u001b[49m\u001b[38;5;241;43m=\u001b[39;49m\u001b[38;5;28;43;01mFalse\u001b[39;49;00m\u001b[43m)\u001b[49m\u001b[43m,\u001b[49m\u001b[43m \u001b[49m\u001b[38;5;124;43m'\u001b[39;49m\u001b[38;5;124;43mJob Description POS\u001b[39;49m\u001b[38;5;124;43m'\u001b[39;49m\u001b[43m]\u001b[49m\n",
      "File \u001b[0;32m~/Documents/Projects/A.I./Prototype/Resume Screener/.venv/lib/python3.11/site-packages/pandas/core/indexing.py:1184\u001b[0m, in \u001b[0;36m_LocationIndexer.__getitem__\u001b[0;34m(self, key)\u001b[0m\n\u001b[1;32m   1182\u001b[0m     \u001b[38;5;28;01mif\u001b[39;00m \u001b[38;5;28mself\u001b[39m\u001b[38;5;241m.\u001b[39m_is_scalar_access(key):\n\u001b[1;32m   1183\u001b[0m         \u001b[38;5;28;01mreturn\u001b[39;00m \u001b[38;5;28mself\u001b[39m\u001b[38;5;241m.\u001b[39mobj\u001b[38;5;241m.\u001b[39m_get_value(\u001b[38;5;241m*\u001b[39mkey, takeable\u001b[38;5;241m=\u001b[39m\u001b[38;5;28mself\u001b[39m\u001b[38;5;241m.\u001b[39m_takeable)\n\u001b[0;32m-> 1184\u001b[0m     \u001b[38;5;28;01mreturn\u001b[39;00m \u001b[38;5;28;43mself\u001b[39;49m\u001b[38;5;241;43m.\u001b[39;49m\u001b[43m_getitem_tuple\u001b[49m\u001b[43m(\u001b[49m\u001b[43mkey\u001b[49m\u001b[43m)\u001b[49m\n\u001b[1;32m   1185\u001b[0m \u001b[38;5;28;01melse\u001b[39;00m:\n\u001b[1;32m   1186\u001b[0m     \u001b[38;5;66;03m# we by definition only have the 0th axis\u001b[39;00m\n\u001b[1;32m   1187\u001b[0m     axis \u001b[38;5;241m=\u001b[39m \u001b[38;5;28mself\u001b[39m\u001b[38;5;241m.\u001b[39maxis \u001b[38;5;129;01mor\u001b[39;00m \u001b[38;5;241m0\u001b[39m\n",
      "File \u001b[0;32m~/Documents/Projects/A.I./Prototype/Resume Screener/.venv/lib/python3.11/site-packages/pandas/core/indexing.py:1368\u001b[0m, in \u001b[0;36m_LocIndexer._getitem_tuple\u001b[0;34m(self, tup)\u001b[0m\n\u001b[1;32m   1366\u001b[0m \u001b[38;5;28;01mwith\u001b[39;00m suppress(IndexingError):\n\u001b[1;32m   1367\u001b[0m     tup \u001b[38;5;241m=\u001b[39m \u001b[38;5;28mself\u001b[39m\u001b[38;5;241m.\u001b[39m_expand_ellipsis(tup)\n\u001b[0;32m-> 1368\u001b[0m     \u001b[38;5;28;01mreturn\u001b[39;00m \u001b[38;5;28;43mself\u001b[39;49m\u001b[38;5;241;43m.\u001b[39;49m\u001b[43m_getitem_lowerdim\u001b[49m\u001b[43m(\u001b[49m\u001b[43mtup\u001b[49m\u001b[43m)\u001b[49m\n\u001b[1;32m   1370\u001b[0m \u001b[38;5;66;03m# no multi-index, so validate all of the indexers\u001b[39;00m\n\u001b[1;32m   1371\u001b[0m tup \u001b[38;5;241m=\u001b[39m \u001b[38;5;28mself\u001b[39m\u001b[38;5;241m.\u001b[39m_validate_tuple_indexer(tup)\n",
      "File \u001b[0;32m~/Documents/Projects/A.I./Prototype/Resume Screener/.venv/lib/python3.11/site-packages/pandas/core/indexing.py:1065\u001b[0m, in \u001b[0;36m_LocationIndexer._getitem_lowerdim\u001b[0;34m(self, tup)\u001b[0m\n\u001b[1;32m   1061\u001b[0m \u001b[38;5;28;01mfor\u001b[39;00m i, key \u001b[38;5;129;01min\u001b[39;00m \u001b[38;5;28menumerate\u001b[39m(tup):\n\u001b[1;32m   1062\u001b[0m     \u001b[38;5;28;01mif\u001b[39;00m is_label_like(key):\n\u001b[1;32m   1063\u001b[0m         \u001b[38;5;66;03m# We don't need to check for tuples here because those are\u001b[39;00m\n\u001b[1;32m   1064\u001b[0m         \u001b[38;5;66;03m#  caught by the _is_nested_tuple_indexer check above.\u001b[39;00m\n\u001b[0;32m-> 1065\u001b[0m         section \u001b[38;5;241m=\u001b[39m \u001b[38;5;28;43mself\u001b[39;49m\u001b[38;5;241;43m.\u001b[39;49m\u001b[43m_getitem_axis\u001b[49m\u001b[43m(\u001b[49m\u001b[43mkey\u001b[49m\u001b[43m,\u001b[49m\u001b[43m \u001b[49m\u001b[43maxis\u001b[49m\u001b[38;5;241;43m=\u001b[39;49m\u001b[43mi\u001b[49m\u001b[43m)\u001b[49m\n\u001b[1;32m   1067\u001b[0m         \u001b[38;5;66;03m# We should never have a scalar section here, because\u001b[39;00m\n\u001b[1;32m   1068\u001b[0m         \u001b[38;5;66;03m#  _getitem_lowerdim is only called after a check for\u001b[39;00m\n\u001b[1;32m   1069\u001b[0m         \u001b[38;5;66;03m#  is_scalar_access, which that would be.\u001b[39;00m\n\u001b[1;32m   1070\u001b[0m         \u001b[38;5;28;01mif\u001b[39;00m section\u001b[38;5;241m.\u001b[39mndim \u001b[38;5;241m==\u001b[39m \u001b[38;5;28mself\u001b[39m\u001b[38;5;241m.\u001b[39mndim:\n\u001b[1;32m   1071\u001b[0m             \u001b[38;5;66;03m# we're in the middle of slicing through a MultiIndex\u001b[39;00m\n\u001b[1;32m   1072\u001b[0m             \u001b[38;5;66;03m# revise the key wrt to `section` by inserting an _NS\u001b[39;00m\n",
      "File \u001b[0;32m~/Documents/Projects/A.I./Prototype/Resume Screener/.venv/lib/python3.11/site-packages/pandas/core/indexing.py:1431\u001b[0m, in \u001b[0;36m_LocIndexer._getitem_axis\u001b[0;34m(self, key, axis)\u001b[0m\n\u001b[1;32m   1429\u001b[0m \u001b[38;5;66;03m# fall thru to straight lookup\u001b[39;00m\n\u001b[1;32m   1430\u001b[0m \u001b[38;5;28mself\u001b[39m\u001b[38;5;241m.\u001b[39m_validate_key(key, axis)\n\u001b[0;32m-> 1431\u001b[0m \u001b[38;5;28;01mreturn\u001b[39;00m \u001b[38;5;28;43mself\u001b[39;49m\u001b[38;5;241;43m.\u001b[39;49m\u001b[43m_get_label\u001b[49m\u001b[43m(\u001b[49m\u001b[43mkey\u001b[49m\u001b[43m,\u001b[49m\u001b[43m \u001b[49m\u001b[43maxis\u001b[49m\u001b[38;5;241;43m=\u001b[39;49m\u001b[43maxis\u001b[49m\u001b[43m)\u001b[49m\n",
      "File \u001b[0;32m~/Documents/Projects/A.I./Prototype/Resume Screener/.venv/lib/python3.11/site-packages/pandas/core/indexing.py:1381\u001b[0m, in \u001b[0;36m_LocIndexer._get_label\u001b[0;34m(self, label, axis)\u001b[0m\n\u001b[1;32m   1379\u001b[0m \u001b[38;5;28;01mdef\u001b[39;00m \u001b[38;5;21m_get_label\u001b[39m(\u001b[38;5;28mself\u001b[39m, label, axis: AxisInt):\n\u001b[1;32m   1380\u001b[0m     \u001b[38;5;66;03m# GH#5567 this will fail if the label is not present in the axis.\u001b[39;00m\n\u001b[0;32m-> 1381\u001b[0m     \u001b[38;5;28;01mreturn\u001b[39;00m \u001b[38;5;28;43mself\u001b[39;49m\u001b[38;5;241;43m.\u001b[39;49m\u001b[43mobj\u001b[49m\u001b[38;5;241;43m.\u001b[39;49m\u001b[43mxs\u001b[49m\u001b[43m(\u001b[49m\u001b[43mlabel\u001b[49m\u001b[43m,\u001b[49m\u001b[43m \u001b[49m\u001b[43maxis\u001b[49m\u001b[38;5;241;43m=\u001b[39;49m\u001b[43maxis\u001b[49m\u001b[43m)\u001b[49m\n",
      "File \u001b[0;32m~/Documents/Projects/A.I./Prototype/Resume Screener/.venv/lib/python3.11/site-packages/pandas/core/generic.py:4284\u001b[0m, in \u001b[0;36mNDFrame.xs\u001b[0;34m(self, key, axis, level, drop_level)\u001b[0m\n\u001b[1;32m   4282\u001b[0m \u001b[38;5;28;01mif\u001b[39;00m axis \u001b[38;5;241m==\u001b[39m \u001b[38;5;241m1\u001b[39m:\n\u001b[1;32m   4283\u001b[0m     \u001b[38;5;28;01mif\u001b[39;00m drop_level:\n\u001b[0;32m-> 4284\u001b[0m         \u001b[38;5;28;01mreturn\u001b[39;00m \u001b[38;5;28;43mself\u001b[39;49m\u001b[43m[\u001b[49m\u001b[43mkey\u001b[49m\u001b[43m]\u001b[49m\n\u001b[1;32m   4285\u001b[0m     index \u001b[38;5;241m=\u001b[39m \u001b[38;5;28mself\u001b[39m\u001b[38;5;241m.\u001b[39mcolumns\n\u001b[1;32m   4286\u001b[0m \u001b[38;5;28;01melse\u001b[39;00m:\n",
      "File \u001b[0;32m~/Documents/Projects/A.I./Prototype/Resume Screener/.venv/lib/python3.11/site-packages/pandas/core/frame.py:4090\u001b[0m, in \u001b[0;36mDataFrame.__getitem__\u001b[0;34m(self, key)\u001b[0m\n\u001b[1;32m   4088\u001b[0m \u001b[38;5;28;01mif\u001b[39;00m \u001b[38;5;28mself\u001b[39m\u001b[38;5;241m.\u001b[39mcolumns\u001b[38;5;241m.\u001b[39mnlevels \u001b[38;5;241m>\u001b[39m \u001b[38;5;241m1\u001b[39m:\n\u001b[1;32m   4089\u001b[0m     \u001b[38;5;28;01mreturn\u001b[39;00m \u001b[38;5;28mself\u001b[39m\u001b[38;5;241m.\u001b[39m_getitem_multilevel(key)\n\u001b[0;32m-> 4090\u001b[0m indexer \u001b[38;5;241m=\u001b[39m \u001b[38;5;28;43mself\u001b[39;49m\u001b[38;5;241;43m.\u001b[39;49m\u001b[43mcolumns\u001b[49m\u001b[38;5;241;43m.\u001b[39;49m\u001b[43mget_loc\u001b[49m\u001b[43m(\u001b[49m\u001b[43mkey\u001b[49m\u001b[43m)\u001b[49m\n\u001b[1;32m   4091\u001b[0m \u001b[38;5;28;01mif\u001b[39;00m is_integer(indexer):\n\u001b[1;32m   4092\u001b[0m     indexer \u001b[38;5;241m=\u001b[39m [indexer]\n",
      "File \u001b[0;32m~/Documents/Projects/A.I./Prototype/Resume Screener/.venv/lib/python3.11/site-packages/pandas/core/indexes/base.py:3812\u001b[0m, in \u001b[0;36mIndex.get_loc\u001b[0;34m(self, key)\u001b[0m\n\u001b[1;32m   3807\u001b[0m     \u001b[38;5;28;01mif\u001b[39;00m \u001b[38;5;28misinstance\u001b[39m(casted_key, \u001b[38;5;28mslice\u001b[39m) \u001b[38;5;129;01mor\u001b[39;00m (\n\u001b[1;32m   3808\u001b[0m         \u001b[38;5;28misinstance\u001b[39m(casted_key, abc\u001b[38;5;241m.\u001b[39mIterable)\n\u001b[1;32m   3809\u001b[0m         \u001b[38;5;129;01mand\u001b[39;00m \u001b[38;5;28many\u001b[39m(\u001b[38;5;28misinstance\u001b[39m(x, \u001b[38;5;28mslice\u001b[39m) \u001b[38;5;28;01mfor\u001b[39;00m x \u001b[38;5;129;01min\u001b[39;00m casted_key)\n\u001b[1;32m   3810\u001b[0m     ):\n\u001b[1;32m   3811\u001b[0m         \u001b[38;5;28;01mraise\u001b[39;00m InvalidIndexError(key)\n\u001b[0;32m-> 3812\u001b[0m     \u001b[38;5;28;01mraise\u001b[39;00m \u001b[38;5;167;01mKeyError\u001b[39;00m(key) \u001b[38;5;28;01mfrom\u001b[39;00m \u001b[38;5;21;01merr\u001b[39;00m\n\u001b[1;32m   3813\u001b[0m \u001b[38;5;28;01mexcept\u001b[39;00m \u001b[38;5;167;01mTypeError\u001b[39;00m:\n\u001b[1;32m   3814\u001b[0m     \u001b[38;5;66;03m# If we have a listlike key, _check_indexing_error will raise\u001b[39;00m\n\u001b[1;32m   3815\u001b[0m     \u001b[38;5;66;03m#  InvalidIndexError. Otherwise we fall through and re-raise\u001b[39;00m\n\u001b[1;32m   3816\u001b[0m     \u001b[38;5;66;03m#  the TypeError.\u001b[39;00m\n\u001b[1;32m   3817\u001b[0m     \u001b[38;5;28mself\u001b[39m\u001b[38;5;241m.\u001b[39m_check_indexing_error(key)\n",
      "\u001b[0;31mKeyError\u001b[0m: 'Job Description POS'"
     ]
    }
   ],
   "source": [
    "filtered_data = data.loc[data['Job Title'].str.contains(String, case=False, na=False), 'Job Description POS']"
   ]
  },
  {
   "cell_type": "code",
   "execution_count": 28,
   "id": "13937b85-b2fa-4187-a07b-65e0c8574224",
   "metadata": {},
   "outputs": [],
   "source": [
    "Data_Science_POS = filtered_data.apply(pd.Series).stack().tolist()\n",
    "#Data_Science_POS"
   ]
  },
  {
   "cell_type": "code",
   "execution_count": 29,
   "id": "43cf548f-4bb0-4a2d-a318-6c85eee0b0e0",
   "metadata": {},
   "outputs": [],
   "source": [
    "## Filter Out Nouns\n",
    "filtered_pos = [ ]\n",
    "for one in Data_Science_POS:\n",
    "    if one[1] == 'NN' or one[1] == 'NNS' or one[1] == 'NNP' or one[1] == 'NNPS':\n",
    "        filtered_pos.append(one)\n",
    "#print(len(filtered_pos))"
   ]
  },
  {
   "cell_type": "code",
   "execution_count": 30,
   "id": "0274d81d-af3b-4293-b557-142a1a1e0cb4",
   "metadata": {},
   "outputs": [],
   "source": [
    "## Finding most frequent words\n",
    "fdist_pos = nltk.FreqDist(filtered_pos)\n",
    "top_10_words = fdist_pos.most_common(10)\n",
    "#print(top_10_words)"
   ]
  },
  {
   "cell_type": "code",
   "execution_count": 32,
   "id": "e138f029-0ed4-4d1e-9bcf-4acaef557359",
   "metadata": {},
   "outputs": [
    {
     "name": "stdout",
     "output_type": "stream",
     "text": [
      "[('data', 827), ('business', 474), ('experience', 431), ('year', 180), ('skill', 180), ('analytics', 170), ('ability', 164), ('management', 163), ('science', 157), ('analysis', 143)]\n"
     ]
    }
   ],
   "source": [
    "new_tuples = [(inner_tuple[0], count) for inner_tuple, count in top_10_words]\n",
    "print(new_tuples)"
   ]
  },
  {
   "cell_type": "code",
   "execution_count": 40,
   "id": "cdca40d5-7037-4f05-bbe0-aa6f86a30012",
   "metadata": {},
   "outputs": [
    {
     "name": "stdout",
     "output_type": "stream",
     "text": [
      "['data', 'business', 'experience', 'year', 'skill', 'analytics', 'ability', 'management', 'science', 'analysis']\n"
     ]
    }
   ],
   "source": [
    "first_elements = [inner_tuple[0] for inner_tuple, count in top_10_words]\n",
    "print(first_elements)"
   ]
  },
  {
   "cell_type": "markdown",
   "id": "9e12799d-ba26-45ee-b25a-5b39c68058ac",
   "metadata": {
    "jp-MarkdownHeadingCollapsed": true
   },
   "source": [
    "# Word Cloud for Data Science"
   ]
  },
  {
   "cell_type": "code",
   "execution_count": 33,
   "id": "ec8ba8a4-303f-4a47-a55e-fb6db56acd28",
   "metadata": {},
   "outputs": [],
   "source": [
    "import matplotlib.pyplot as plt\n",
    "from wordcloud import WordCloud"
   ]
  },
  {
   "cell_type": "code",
   "execution_count": 34,
   "id": "3882ef7c-f266-42f6-a4f5-ac7100a67b78",
   "metadata": {},
   "outputs": [],
   "source": [
    "from nltk.collocations import *"
   ]
  },
  {
   "cell_type": "code",
   "execution_count": 35,
   "id": "b8c57683-0c21-4f3e-b938-e91ebc13f264",
   "metadata": {},
   "outputs": [],
   "source": [
    "wordcloud = WordCloud(width = 1500, height = 1000,background_color='white')"
   ]
  },
  {
   "cell_type": "code",
   "execution_count": 36,
   "id": "dbd53aa3-5195-4d41-a497-c20a056e23a8",
   "metadata": {},
   "outputs": [],
   "source": [
    "word_frequencies = dict(new_tuples)"
   ]
  },
  {
   "cell_type": "code",
   "execution_count": 37,
   "id": "b1ebe47a-79bf-4a11-8820-ecd95fbe180e",
   "metadata": {},
   "outputs": [
    {
     "data": {
      "text/plain": [
       "<wordcloud.wordcloud.WordCloud at 0x28c0b794c80>"
      ]
     },
     "execution_count": 37,
     "metadata": {},
     "output_type": "execute_result"
    }
   ],
   "source": [
    "wordcloud.generate_from_frequencies(word_frequencies)"
   ]
  },
  {
   "cell_type": "code",
   "execution_count": 38,
   "id": "380635b9-97d2-461b-b7c2-200ed6efb770",
   "metadata": {},
   "outputs": [
    {
     "data": {
      "image/png": "[encoded data removed]",
      "text/plain": [
       "<Figure size 1200x600 with 1 Axes>"
      ]
     },
     "metadata": {},
     "output_type": "display_data"
    }
   ],
   "source": [
    "plt.figure(figsize=(12,6))\n",
    "plt.imshow(wordcloud, interpolation=\"bilinear\")\n",
    "plt.axis(\"off\")\n",
    "plt.show()"
   ]
  }
 ],
 "metadata": {
  "kernelspec": {
   "display_name": "Python 3 (ipykernel)",
   "language": "python",
   "name": "python3"
  },
  "language_info": {
   "codemirror_mode": {
    "name": "ipython",
    "version": 3
   },
   "file_extension": ".py",
   "mimetype": "text/x-python",
   "name": "python",
   "nbconvert_exporter": "python",
   "pygments_lexer": "ipython3",
   "version": "3.11.5"
  }
 },
 "nbformat": 4,
 "nbformat_minor": 5
}
